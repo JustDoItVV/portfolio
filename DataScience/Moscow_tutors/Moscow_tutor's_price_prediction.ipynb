{
  "nbformat": 4,
  "nbformat_minor": 0,
  "metadata": {
    "colab": {
      "name": "Moscow tutor's price prediction",
      "provenance": [],
      "collapsed_sections": [],
      "mount_file_id": "1iybL9hkBPDzv0ZUzo0QGsdoFvJxrisuZ",
      "authorship_tag": "ABX9TyPWtmUaDr3gYh16Gw+mscL/"
    },
    "kernelspec": {
      "name": "python3",
      "display_name": "Python 3"
    },
    "language_info": {
      "name": "python"
    }
  },
  "cells": [
    {
      "cell_type": "markdown",
      "metadata": {
        "id": "2SJ22IyWpOiX"
      },
      "source": [
        "Model for prediction a price of tutors' servecices in Moscow\n",
        "---\n",
        "Site: repetit.ru\n",
        "\n",
        "City: Moscow"
      ]
    },
    {
      "cell_type": "code",
      "metadata": {
        "colab": {
          "base_uri": "https://localhost:8080/"
        },
        "id": "7L1ZjUcUHOB2",
        "outputId": "c803f390-7de8-49b6-e3a7-88ff31e784bb"
      },
      "source": [
        "pip install fuzzywuzzy"
      ],
      "execution_count": null,
      "outputs": [
        {
          "output_type": "stream",
          "name": "stdout",
          "text": [
            "Collecting fuzzywuzzy\n",
            "  Downloading fuzzywuzzy-0.18.0-py2.py3-none-any.whl (18 kB)\n",
            "Installing collected packages: fuzzywuzzy\n",
            "Successfully installed fuzzywuzzy-0.18.0\n"
          ]
        }
      ]
    },
    {
      "cell_type": "code",
      "metadata": {
        "id": "N9IVNpWNx1CY",
        "colab": {
          "base_uri": "https://localhost:8080/"
        },
        "outputId": "d2313233-1510-4b76-b529-9b6b8d7364d3"
      },
      "source": [
        "import pandas as pd\n",
        "import re\n",
        "import numpy as np\n",
        "from ast import literal_eval\n",
        "import fuzzywuzzy\n",
        "from fuzzywuzzy import fuzz\n",
        "from fuzzywuzzy import process"
      ],
      "execution_count": null,
      "outputs": [
        {
          "output_type": "stream",
          "name": "stderr",
          "text": [
            "/usr/local/lib/python3.7/dist-packages/fuzzywuzzy/fuzz.py:11: UserWarning: Using slow pure-python SequenceMatcher. Install python-Levenshtein to remove this warning\n",
            "  warnings.warn('Using slow pure-python SequenceMatcher. Install python-Levenshtein to remove this warning')\n"
          ]
        }
      ]
    },
    {
      "cell_type": "code",
      "metadata": {
        "id": "g0-gdkXZLmpF"
      },
      "source": [
        "tutors_data = pd.read_csv('/content/tutors_eng_06_10_2021.csv')"
      ],
      "execution_count": null,
      "outputs": []
    },
    {
      "cell_type": "code",
      "metadata": {
        "colab": {
          "base_uri": "https://localhost:8080/"
        },
        "id": "zHugzt0w4-Nd",
        "outputId": "613e7379-0ca6-4bd1-fcf7-56017800b49f"
      },
      "source": [
        "tutors_data.shape"
      ],
      "execution_count": null,
      "outputs": [
        {
          "output_type": "execute_result",
          "data": {
            "text/plain": [
              "(88699, 12)"
            ]
          },
          "metadata": {},
          "execution_count": 13
        }
      ]
    },
    {
      "cell_type": "code",
      "metadata": {
        "colab": {
          "base_uri": "https://localhost:8080/",
          "height": 289
        },
        "id": "v_O0u_ec35gy",
        "outputId": "a77c6e40-e194-4850-ccf4-d3daf1eee5c1"
      },
      "source": [
        "tutors_data.head()"
      ],
      "execution_count": null,
      "outputs": [
        {
          "output_type": "execute_result",
          "data": {
            "text/html": [
              "<div>\n",
              "<style scoped>\n",
              "    .dataframe tbody tr th:only-of-type {\n",
              "        vertical-align: middle;\n",
              "    }\n",
              "\n",
              "    .dataframe tbody tr th {\n",
              "        vertical-align: top;\n",
              "    }\n",
              "\n",
              "    .dataframe thead th {\n",
              "        text-align: right;\n",
              "    }\n",
              "</style>\n",
              "<table border=\"1\" class=\"dataframe\">\n",
              "  <thead>\n",
              "    <tr style=\"text-align: right;\">\n",
              "      <th></th>\n",
              "      <th>Categories</th>\n",
              "      <th>Price</th>\n",
              "      <th>Score</th>\n",
              "      <th>Format</th>\n",
              "      <th>Reviews_number</th>\n",
              "      <th>Experience</th>\n",
              "      <th>Status</th>\n",
              "      <th>Location</th>\n",
              "      <th>Tags</th>\n",
              "      <th>Audience</th>\n",
              "      <th>Video_presentation</th>\n",
              "      <th>Photo</th>\n",
              "    </tr>\n",
              "  </thead>\n",
              "  <tbody>\n",
              "    <tr>\n",
              "      <th>0</th>\n",
              "      <td>['German', 'Spanish']</td>\n",
              "      <td>1800</td>\n",
              "      <td>5.0</td>\n",
              "      <td>['remotely']</td>\n",
              "      <td>26.0</td>\n",
              "      <td>21.0</td>\n",
              "      <td>Private tutor</td>\n",
              "      <td>NaN</td>\n",
              "      <td>NaN</td>\n",
              "      <td>NaN</td>\n",
              "      <td>NaN</td>\n",
              "      <td>NaN</td>\n",
              "    </tr>\n",
              "    <tr>\n",
              "      <th>1</th>\n",
              "      <td>['Mathematics']</td>\n",
              "      <td>2500</td>\n",
              "      <td>4.9</td>\n",
              "      <td>['at the tutor's', 'remotely']</td>\n",
              "      <td>41.0</td>\n",
              "      <td>29.0</td>\n",
              "      <td>Private tutor</td>\n",
              "      <td>['metro Schukinskaja']</td>\n",
              "      <td>['ОГЭ (ГИА)', 'ЕГЭ', 'подготовка к олимпиадам'...</td>\n",
              "      <td>['Pupils of 4-11 grades', 'Students']</td>\n",
              "      <td>No</td>\n",
              "      <td>Yes</td>\n",
              "    </tr>\n",
              "    <tr>\n",
              "      <th>2</th>\n",
              "      <td>['English']</td>\n",
              "      <td>1500</td>\n",
              "      <td>5.0</td>\n",
              "      <td>['at the tutor's', 'at the student's', 'remote...</td>\n",
              "      <td>14.0</td>\n",
              "      <td>11.0</td>\n",
              "      <td>Private tutor</td>\n",
              "      <td>['metro Chertanovskaja']</td>\n",
              "      <td>['ОГЭ (ГИА)', 'ЕГЭ', 'подготовка к олимпиадам'...</td>\n",
              "      <td>['Children 6-7 years old', 'Pupils of 1-11 gra...</td>\n",
              "      <td>Yes</td>\n",
              "      <td>Yes</td>\n",
              "    </tr>\n",
              "    <tr>\n",
              "      <th>3</th>\n",
              "      <td>['Chemistry']</td>\n",
              "      <td>1300</td>\n",
              "      <td>5.0</td>\n",
              "      <td>['remotely']</td>\n",
              "      <td>41.0</td>\n",
              "      <td>39.0</td>\n",
              "      <td>Private tutor</td>\n",
              "      <td>NaN</td>\n",
              "      <td>NaN</td>\n",
              "      <td>NaN</td>\n",
              "      <td>NaN</td>\n",
              "      <td>NaN</td>\n",
              "    </tr>\n",
              "    <tr>\n",
              "      <th>4</th>\n",
              "      <td>['Mathematics']</td>\n",
              "      <td>1500</td>\n",
              "      <td>5.0</td>\n",
              "      <td>['at the tutor's', 'at the student's', 'remote...</td>\n",
              "      <td>35.0</td>\n",
              "      <td>9.0</td>\n",
              "      <td>School teacher</td>\n",
              "      <td>['metro Otradnoe', 'metro Babushkinskaja', 'me...</td>\n",
              "      <td>['ОГЭ (ГИА)', 'ЕГЭ', ' школьный курс', 'Алгебр...</td>\n",
              "      <td>['Pupils of 5-11 grades']</td>\n",
              "      <td>No</td>\n",
              "      <td>Yes</td>\n",
              "    </tr>\n",
              "  </tbody>\n",
              "</table>\n",
              "</div>"
            ],
            "text/plain": [
              "              Categories  Price  ...  Video_presentation Photo\n",
              "0  ['German', 'Spanish']   1800  ...                 NaN   NaN\n",
              "1        ['Mathematics']   2500  ...                  No   Yes\n",
              "2            ['English']   1500  ...                 Yes   Yes\n",
              "3          ['Chemistry']   1300  ...                 NaN   NaN\n",
              "4        ['Mathematics']   1500  ...                  No   Yes\n",
              "\n",
              "[5 rows x 12 columns]"
            ]
          },
          "metadata": {},
          "execution_count": 14
        }
      ]
    },
    {
      "cell_type": "markdown",
      "metadata": {
        "id": "lnUfHHUcZ87u"
      },
      "source": [
        "Features description:\n",
        "\n",
        "*   **Categories** - Lists of taught subjects out of 27 subjects\n",
        "*   **Price** - Price in rub per hour\n",
        "*   **Score** - Average score based on the reviews, 0.0-5.0\n",
        "*   **Format** - Lists of working formats. Options: remotely, at the tutor's place, at the student's place\n",
        "*   **Reviews_number** - Amount of student's reviews in the tutor's profile\n",
        "*   **Experience** - Experience in years\n",
        "*   **Status** - Current tutor's status. Options: Private tutor, School teacher, Postgraduate student, Native speaker, University professor, Student, not stated (missing)\n",
        "*   **Location** - Metro stations or cities on Moscow region\n",
        "*   **Tags** - Tutor's services. They are stated by tutors and can differs. They are remained in Russian in the dataset\n",
        "*   **Audience** - Tutor's target audience. For example: students, pupils of 10 grades etc. They are stated by tutors and can differs\n",
        "*   **Video_presentation** - Video presentation availability\n",
        "*   **Photo** - Profile photo availability"
      ]
    },
    {
      "cell_type": "markdown",
      "metadata": {
        "id": "BIiN5zyx6CjV"
      },
      "source": [
        "Dataset Analysis\n",
        "---"
      ]
    },
    {
      "cell_type": "code",
      "metadata": {
        "colab": {
          "base_uri": "https://localhost:8080/"
        },
        "id": "X43cZksu4yq4",
        "outputId": "865162af-393c-4e1e-ba9c-aedb5dbb9b7c"
      },
      "source": [
        "tutors_data.isnull().sum()"
      ],
      "execution_count": null,
      "outputs": [
        {
          "output_type": "execute_result",
          "data": {
            "text/plain": [
              "Categories                0\n",
              "Price                     0\n",
              "Score                     0\n",
              "Format                    0\n",
              "Reviews_number        63174\n",
              "Experience            63174\n",
              "Status                63174\n",
              "Location              65406\n",
              "Tags                  65419\n",
              "Audience              65420\n",
              "Video_presentation    65420\n",
              "Photo                 65420\n",
              "dtype: int64"
            ]
          },
          "metadata": {},
          "execution_count": 15
        }
      ]
    },
    {
      "cell_type": "markdown",
      "metadata": {
        "id": "2sANcoR66fUI"
      },
      "source": [
        "Almost 74 % of the data is missing or empty for 8 last columns. Let's look at the missing rows closely."
      ]
    },
    {
      "cell_type": "code",
      "metadata": {
        "colab": {
          "base_uri": "https://localhost:8080/",
          "height": 419
        },
        "id": "_t7DTk0Y8UDZ",
        "outputId": "7ef7cb26-fe18-4a8a-f55c-0f02cba99ab2"
      },
      "source": [
        "cols_with_missings = ['Reviews_number', 'Experience', 'Status', 'Location', 'Tags', 'Audience', 'Video_presentation', 'Photo']\n",
        "null_data = tutors_data[tutors_data.isnull().any(axis=1)]\n",
        "null_data"
      ],
      "execution_count": null,
      "outputs": [
        {
          "output_type": "execute_result",
          "data": {
            "text/html": [
              "<div>\n",
              "<style scoped>\n",
              "    .dataframe tbody tr th:only-of-type {\n",
              "        vertical-align: middle;\n",
              "    }\n",
              "\n",
              "    .dataframe tbody tr th {\n",
              "        vertical-align: top;\n",
              "    }\n",
              "\n",
              "    .dataframe thead th {\n",
              "        text-align: right;\n",
              "    }\n",
              "</style>\n",
              "<table border=\"1\" class=\"dataframe\">\n",
              "  <thead>\n",
              "    <tr style=\"text-align: right;\">\n",
              "      <th></th>\n",
              "      <th>Categories</th>\n",
              "      <th>Price</th>\n",
              "      <th>Score</th>\n",
              "      <th>Format</th>\n",
              "      <th>Reviews_number</th>\n",
              "      <th>Experience</th>\n",
              "      <th>Status</th>\n",
              "      <th>Location</th>\n",
              "      <th>Tags</th>\n",
              "      <th>Audience</th>\n",
              "      <th>Video_presentation</th>\n",
              "      <th>Photo</th>\n",
              "    </tr>\n",
              "  </thead>\n",
              "  <tbody>\n",
              "    <tr>\n",
              "      <th>0</th>\n",
              "      <td>['German', 'Spanish']</td>\n",
              "      <td>1800</td>\n",
              "      <td>5.0</td>\n",
              "      <td>['remotely']</td>\n",
              "      <td>26.0</td>\n",
              "      <td>21.0</td>\n",
              "      <td>Private tutor</td>\n",
              "      <td>NaN</td>\n",
              "      <td>NaN</td>\n",
              "      <td>NaN</td>\n",
              "      <td>NaN</td>\n",
              "      <td>NaN</td>\n",
              "    </tr>\n",
              "    <tr>\n",
              "      <th>3</th>\n",
              "      <td>['Chemistry']</td>\n",
              "      <td>1300</td>\n",
              "      <td>5.0</td>\n",
              "      <td>['remotely']</td>\n",
              "      <td>41.0</td>\n",
              "      <td>39.0</td>\n",
              "      <td>Private tutor</td>\n",
              "      <td>NaN</td>\n",
              "      <td>NaN</td>\n",
              "      <td>NaN</td>\n",
              "      <td>NaN</td>\n",
              "      <td>NaN</td>\n",
              "    </tr>\n",
              "    <tr>\n",
              "      <th>7</th>\n",
              "      <td>['English']</td>\n",
              "      <td>6000</td>\n",
              "      <td>5.0</td>\n",
              "      <td>['remotely']</td>\n",
              "      <td>23.0</td>\n",
              "      <td>17.0</td>\n",
              "      <td>Native speaker</td>\n",
              "      <td>NaN</td>\n",
              "      <td>NaN</td>\n",
              "      <td>NaN</td>\n",
              "      <td>NaN</td>\n",
              "      <td>NaN</td>\n",
              "    </tr>\n",
              "    <tr>\n",
              "      <th>16</th>\n",
              "      <td>['English']</td>\n",
              "      <td>1000</td>\n",
              "      <td>4.8</td>\n",
              "      <td>['remotely']</td>\n",
              "      <td>9.0</td>\n",
              "      <td>7.0</td>\n",
              "      <td>Private tutor</td>\n",
              "      <td>NaN</td>\n",
              "      <td>NaN</td>\n",
              "      <td>NaN</td>\n",
              "      <td>NaN</td>\n",
              "      <td>NaN</td>\n",
              "    </tr>\n",
              "    <tr>\n",
              "      <th>19</th>\n",
              "      <td>['Japanese', 'Russian as a foreign language']</td>\n",
              "      <td>1400</td>\n",
              "      <td>5.0</td>\n",
              "      <td>['remotely']</td>\n",
              "      <td>41.0</td>\n",
              "      <td>14.0</td>\n",
              "      <td>Private tutor</td>\n",
              "      <td>NaN</td>\n",
              "      <td>NaN</td>\n",
              "      <td>NaN</td>\n",
              "      <td>NaN</td>\n",
              "      <td>NaN</td>\n",
              "    </tr>\n",
              "    <tr>\n",
              "      <th>...</th>\n",
              "      <td>...</td>\n",
              "      <td>...</td>\n",
              "      <td>...</td>\n",
              "      <td>...</td>\n",
              "      <td>...</td>\n",
              "      <td>...</td>\n",
              "      <td>...</td>\n",
              "      <td>...</td>\n",
              "      <td>...</td>\n",
              "      <td>...</td>\n",
              "      <td>...</td>\n",
              "      <td>...</td>\n",
              "    </tr>\n",
              "    <tr>\n",
              "      <th>88692</th>\n",
              "      <td>['Physics', 'Rare foreign languages']</td>\n",
              "      <td>350</td>\n",
              "      <td>4.3</td>\n",
              "      <td>['remotely']</td>\n",
              "      <td>NaN</td>\n",
              "      <td>NaN</td>\n",
              "      <td>NaN</td>\n",
              "      <td>NaN</td>\n",
              "      <td>NaN</td>\n",
              "      <td>NaN</td>\n",
              "      <td>NaN</td>\n",
              "      <td>NaN</td>\n",
              "    </tr>\n",
              "    <tr>\n",
              "      <th>88694</th>\n",
              "      <td>['Sport and fitness', 'Other']</td>\n",
              "      <td>1800</td>\n",
              "      <td>4.3</td>\n",
              "      <td>['at the tutor's', 'at the student's']</td>\n",
              "      <td>NaN</td>\n",
              "      <td>NaN</td>\n",
              "      <td>NaN</td>\n",
              "      <td>NaN</td>\n",
              "      <td>NaN</td>\n",
              "      <td>NaN</td>\n",
              "      <td>NaN</td>\n",
              "      <td>NaN</td>\n",
              "    </tr>\n",
              "    <tr>\n",
              "      <th>88696</th>\n",
              "      <td>['Preschooler activities', 'Elementary School']</td>\n",
              "      <td>700</td>\n",
              "      <td>4.3</td>\n",
              "      <td>['at the student's']</td>\n",
              "      <td>NaN</td>\n",
              "      <td>NaN</td>\n",
              "      <td>NaN</td>\n",
              "      <td>NaN</td>\n",
              "      <td>NaN</td>\n",
              "      <td>NaN</td>\n",
              "      <td>NaN</td>\n",
              "      <td>NaN</td>\n",
              "    </tr>\n",
              "    <tr>\n",
              "      <th>88697</th>\n",
              "      <td>['French']</td>\n",
              "      <td>1500</td>\n",
              "      <td>4.3</td>\n",
              "      <td>['at the student's']</td>\n",
              "      <td>NaN</td>\n",
              "      <td>NaN</td>\n",
              "      <td>NaN</td>\n",
              "      <td>NaN</td>\n",
              "      <td>NaN</td>\n",
              "      <td>NaN</td>\n",
              "      <td>NaN</td>\n",
              "      <td>NaN</td>\n",
              "    </tr>\n",
              "    <tr>\n",
              "      <th>88698</th>\n",
              "      <td>['English', 'Italian']</td>\n",
              "      <td>1000</td>\n",
              "      <td>4.3</td>\n",
              "      <td>['at the student's', 'remotely']</td>\n",
              "      <td>NaN</td>\n",
              "      <td>NaN</td>\n",
              "      <td>NaN</td>\n",
              "      <td>NaN</td>\n",
              "      <td>NaN</td>\n",
              "      <td>NaN</td>\n",
              "      <td>NaN</td>\n",
              "      <td>NaN</td>\n",
              "    </tr>\n",
              "  </tbody>\n",
              "</table>\n",
              "<p>65420 rows × 12 columns</p>\n",
              "</div>"
            ],
            "text/plain": [
              "                                            Categories  ...  Photo\n",
              "0                                ['German', 'Spanish']  ...    NaN\n",
              "3                                        ['Chemistry']  ...    NaN\n",
              "7                                          ['English']  ...    NaN\n",
              "16                                         ['English']  ...    NaN\n",
              "19       ['Japanese', 'Russian as a foreign language']  ...    NaN\n",
              "...                                                ...  ...    ...\n",
              "88692            ['Physics', 'Rare foreign languages']  ...    NaN\n",
              "88694                   ['Sport and fitness', 'Other']  ...    NaN\n",
              "88696  ['Preschooler activities', 'Elementary School']  ...    NaN\n",
              "88697                                       ['French']  ...    NaN\n",
              "88698                           ['English', 'Italian']  ...    NaN\n",
              "\n",
              "[65420 rows x 12 columns]"
            ]
          },
          "metadata": {},
          "execution_count": 31
        }
      ]
    },
    {
      "cell_type": "code",
      "metadata": {
        "id": "wuYJoCb9-tvl"
      },
      "source": [
        "null_data['Format'] = null_data['Format'].apply(lambda s: str(s).replace(\"at the tutor's\",\"tutors place\"))\n",
        "null_data['Format'] = null_data['Format'].apply(lambda s: str(s).replace(\"at the student's\",\"students place\"))"
      ],
      "execution_count": null,
      "outputs": []
    },
    {
      "cell_type": "code",
      "metadata": {
        "id": "ClcG9oR8-flk"
      },
      "source": [
        "for i in ['Categories', 'Format']:\n",
        "    null_data[i] = null_data[i].apply(lambda s: list(literal_eval(str(s))) if s != np.nan else s)"
      ],
      "execution_count": null,
      "outputs": []
    },
    {
      "cell_type": "code",
      "metadata": {
        "colab": {
          "base_uri": "https://localhost:8080/",
          "height": 419
        },
        "id": "OwVoZBzv66up",
        "outputId": "c8e8f3cc-a73d-41e4-bde6-058dd4a26ff3"
      },
      "source": [
        "null_expl = null_data.explode('Format')\n",
        "null_expl"
      ],
      "execution_count": null,
      "outputs": [
        {
          "output_type": "execute_result",
          "data": {
            "text/html": [
              "<div>\n",
              "<style scoped>\n",
              "    .dataframe tbody tr th:only-of-type {\n",
              "        vertical-align: middle;\n",
              "    }\n",
              "\n",
              "    .dataframe tbody tr th {\n",
              "        vertical-align: top;\n",
              "    }\n",
              "\n",
              "    .dataframe thead th {\n",
              "        text-align: right;\n",
              "    }\n",
              "</style>\n",
              "<table border=\"1\" class=\"dataframe\">\n",
              "  <thead>\n",
              "    <tr style=\"text-align: right;\">\n",
              "      <th></th>\n",
              "      <th>Categories</th>\n",
              "      <th>Price</th>\n",
              "      <th>Score</th>\n",
              "      <th>Format</th>\n",
              "      <th>Reviews_number</th>\n",
              "      <th>Experience</th>\n",
              "      <th>Status</th>\n",
              "      <th>Location</th>\n",
              "      <th>Tags</th>\n",
              "      <th>Audience</th>\n",
              "      <th>Video_presentation</th>\n",
              "      <th>Photo</th>\n",
              "    </tr>\n",
              "  </thead>\n",
              "  <tbody>\n",
              "    <tr>\n",
              "      <th>0</th>\n",
              "      <td>[German, Spanish]</td>\n",
              "      <td>1800</td>\n",
              "      <td>5.0</td>\n",
              "      <td>remotely</td>\n",
              "      <td>26.0</td>\n",
              "      <td>21.0</td>\n",
              "      <td>Private tutor</td>\n",
              "      <td>NaN</td>\n",
              "      <td>NaN</td>\n",
              "      <td>NaN</td>\n",
              "      <td>NaN</td>\n",
              "      <td>NaN</td>\n",
              "    </tr>\n",
              "    <tr>\n",
              "      <th>3</th>\n",
              "      <td>[Chemistry]</td>\n",
              "      <td>1300</td>\n",
              "      <td>5.0</td>\n",
              "      <td>remotely</td>\n",
              "      <td>41.0</td>\n",
              "      <td>39.0</td>\n",
              "      <td>Private tutor</td>\n",
              "      <td>NaN</td>\n",
              "      <td>NaN</td>\n",
              "      <td>NaN</td>\n",
              "      <td>NaN</td>\n",
              "      <td>NaN</td>\n",
              "    </tr>\n",
              "    <tr>\n",
              "      <th>7</th>\n",
              "      <td>[English]</td>\n",
              "      <td>6000</td>\n",
              "      <td>5.0</td>\n",
              "      <td>remotely</td>\n",
              "      <td>23.0</td>\n",
              "      <td>17.0</td>\n",
              "      <td>Native speaker</td>\n",
              "      <td>NaN</td>\n",
              "      <td>NaN</td>\n",
              "      <td>NaN</td>\n",
              "      <td>NaN</td>\n",
              "      <td>NaN</td>\n",
              "    </tr>\n",
              "    <tr>\n",
              "      <th>16</th>\n",
              "      <td>[English]</td>\n",
              "      <td>1000</td>\n",
              "      <td>4.8</td>\n",
              "      <td>remotely</td>\n",
              "      <td>9.0</td>\n",
              "      <td>7.0</td>\n",
              "      <td>Private tutor</td>\n",
              "      <td>NaN</td>\n",
              "      <td>NaN</td>\n",
              "      <td>NaN</td>\n",
              "      <td>NaN</td>\n",
              "      <td>NaN</td>\n",
              "    </tr>\n",
              "    <tr>\n",
              "      <th>19</th>\n",
              "      <td>[Japanese, Russian as a foreign language]</td>\n",
              "      <td>1400</td>\n",
              "      <td>5.0</td>\n",
              "      <td>remotely</td>\n",
              "      <td>41.0</td>\n",
              "      <td>14.0</td>\n",
              "      <td>Private tutor</td>\n",
              "      <td>NaN</td>\n",
              "      <td>NaN</td>\n",
              "      <td>NaN</td>\n",
              "      <td>NaN</td>\n",
              "      <td>NaN</td>\n",
              "    </tr>\n",
              "    <tr>\n",
              "      <th>...</th>\n",
              "      <td>...</td>\n",
              "      <td>...</td>\n",
              "      <td>...</td>\n",
              "      <td>...</td>\n",
              "      <td>...</td>\n",
              "      <td>...</td>\n",
              "      <td>...</td>\n",
              "      <td>...</td>\n",
              "      <td>...</td>\n",
              "      <td>...</td>\n",
              "      <td>...</td>\n",
              "      <td>...</td>\n",
              "    </tr>\n",
              "    <tr>\n",
              "      <th>88694</th>\n",
              "      <td>[Sport and fitness, Other]</td>\n",
              "      <td>1800</td>\n",
              "      <td>4.3</td>\n",
              "      <td>students place</td>\n",
              "      <td>NaN</td>\n",
              "      <td>NaN</td>\n",
              "      <td>NaN</td>\n",
              "      <td>NaN</td>\n",
              "      <td>NaN</td>\n",
              "      <td>NaN</td>\n",
              "      <td>NaN</td>\n",
              "      <td>NaN</td>\n",
              "    </tr>\n",
              "    <tr>\n",
              "      <th>88696</th>\n",
              "      <td>[Preschooler activities, Elementary School]</td>\n",
              "      <td>700</td>\n",
              "      <td>4.3</td>\n",
              "      <td>students place</td>\n",
              "      <td>NaN</td>\n",
              "      <td>NaN</td>\n",
              "      <td>NaN</td>\n",
              "      <td>NaN</td>\n",
              "      <td>NaN</td>\n",
              "      <td>NaN</td>\n",
              "      <td>NaN</td>\n",
              "      <td>NaN</td>\n",
              "    </tr>\n",
              "    <tr>\n",
              "      <th>88697</th>\n",
              "      <td>[French]</td>\n",
              "      <td>1500</td>\n",
              "      <td>4.3</td>\n",
              "      <td>students place</td>\n",
              "      <td>NaN</td>\n",
              "      <td>NaN</td>\n",
              "      <td>NaN</td>\n",
              "      <td>NaN</td>\n",
              "      <td>NaN</td>\n",
              "      <td>NaN</td>\n",
              "      <td>NaN</td>\n",
              "      <td>NaN</td>\n",
              "    </tr>\n",
              "    <tr>\n",
              "      <th>88698</th>\n",
              "      <td>[English, Italian]</td>\n",
              "      <td>1000</td>\n",
              "      <td>4.3</td>\n",
              "      <td>students place</td>\n",
              "      <td>NaN</td>\n",
              "      <td>NaN</td>\n",
              "      <td>NaN</td>\n",
              "      <td>NaN</td>\n",
              "      <td>NaN</td>\n",
              "      <td>NaN</td>\n",
              "      <td>NaN</td>\n",
              "      <td>NaN</td>\n",
              "    </tr>\n",
              "    <tr>\n",
              "      <th>88698</th>\n",
              "      <td>[English, Italian]</td>\n",
              "      <td>1000</td>\n",
              "      <td>4.3</td>\n",
              "      <td>remotely</td>\n",
              "      <td>NaN</td>\n",
              "      <td>NaN</td>\n",
              "      <td>NaN</td>\n",
              "      <td>NaN</td>\n",
              "      <td>NaN</td>\n",
              "      <td>NaN</td>\n",
              "      <td>NaN</td>\n",
              "      <td>NaN</td>\n",
              "    </tr>\n",
              "  </tbody>\n",
              "</table>\n",
              "<p>122793 rows × 12 columns</p>\n",
              "</div>"
            ],
            "text/plain": [
              "                                        Categories  ...  Photo\n",
              "0                                [German, Spanish]  ...    NaN\n",
              "3                                      [Chemistry]  ...    NaN\n",
              "7                                        [English]  ...    NaN\n",
              "16                                       [English]  ...    NaN\n",
              "19       [Japanese, Russian as a foreign language]  ...    NaN\n",
              "...                                            ...  ...    ...\n",
              "88694                   [Sport and fitness, Other]  ...    NaN\n",
              "88696  [Preschooler activities, Elementary School]  ...    NaN\n",
              "88697                                     [French]  ...    NaN\n",
              "88698                           [English, Italian]  ...    NaN\n",
              "88698                           [English, Italian]  ...    NaN\n",
              "\n",
              "[122793 rows x 12 columns]"
            ]
          },
          "metadata": {},
          "execution_count": 50
        }
      ]
    },
    {
      "cell_type": "markdown",
      "metadata": {
        "id": "I6w6gVR2_v9H"
      },
      "source": [
        "Columns:\n",
        "\n",
        "    \n",
        "*   **`Reviews_number`**: There was no data on the page during parsing, so we can claim that these tutors don't have reviews from the students at all, although they have the score. We can fill in 0 for the missings.\n",
        "*   **`Experience`**: Tutors didn't indicate their experience, so we can assume that they don't have any or have little. Let's fill in 0 for the missings values.\n",
        "*   **`Status`**: Tutors didn't stated their status. We'll fill the missings with '`-`' that means '`No status`'.\n",
        "*   **`Location`**: 75 % of the missings have `remote` format of working. Let's assume the rest of the tutors are very mobile and can reach any place of Moscow easily (Heh, I'd look at it). So we'll fill in the missing cells with value '`[]`' denoting all the location of Moscow.\n",
        "*   **`Tags`**: The tags are written by the tutors and have lots of different values. We won't use this feature for prediction. Just fill in with '`[]`'.\n",
        "*   **`Audience`**: Assume that the tutors work with all the kind of audience, so fill in with '`[All]`'.\n",
        "*   **`Video_presentation`** and **`Photo`**: There was no data about these parameters on parsed pages, so we'll fill in the missings with '`No`'."
      ]
    },
    {
      "cell_type": "code",
      "metadata": {
        "colab": {
          "base_uri": "https://localhost:8080/"
        },
        "id": "4ckmTayo-37f",
        "outputId": "953f78e8-7ff6-4d41-c0ff-cca842b5f59e"
      },
      "source": [
        "null_expl.Format.value_counts()"
      ],
      "execution_count": null,
      "outputs": [
        {
          "output_type": "execute_result",
          "data": {
            "text/plain": [
              "remotely          49019\n",
              "students place    44137\n",
              "tutors place      29637\n",
              "Name: Format, dtype: int64"
            ]
          },
          "metadata": {},
          "execution_count": 56
        }
      ]
    },
    {
      "cell_type": "code",
      "metadata": {
        "colab": {
          "base_uri": "https://localhost:8080/"
        },
        "id": "m9pbvspxCEH1",
        "outputId": "0b72abe0-855e-4a72-f755-10c2fe5942c7"
      },
      "source": [
        "49019 / 65420 * 100"
      ],
      "execution_count": null,
      "outputs": [
        {
          "output_type": "execute_result",
          "data": {
            "text/plain": [
              "74.92968511158668"
            ]
          },
          "metadata": {},
          "execution_count": 59
        }
      ]
    },
    {
      "cell_type": "markdown",
      "metadata": {
        "id": "cX639MR14TEI"
      },
      "source": [
        "Data preprocessing\n",
        "---\n",
        "Let's start filling in the missings"
      ]
    },
    {
      "cell_type": "code",
      "metadata": {
        "id": "h2WTxWsO8IgB"
      },
      "source": [
        "tutors_data_preprocessed = tutors_data.copy()"
      ],
      "execution_count": null,
      "outputs": []
    },
    {
      "cell_type": "code",
      "metadata": {
        "id": "GZ41vpdKEutV"
      },
      "source": [
        "tutors_data_preprocessed[['Reviews_number', 'Experience']] = tutors_data_preprocessed[['Reviews_number', 'Experience']].fillna(0)\n",
        "tutors_data_preprocessed['Status'] = tutors_data_preprocessed['Status'].fillna('-')\n",
        "tutors_data_preprocessed[['Location', 'Tags']] = tutors_data_preprocessed[['Location', 'Tags']].fillna('[]')\n",
        "tutors_data_preprocessed['Audience'] = tutors_data_preprocessed['Audience'].fillna('[\\'All\\']')\n",
        "tutors_data_preprocessed[['Video_presentation', 'Photo']] = tutors_data_preprocessed[['Video_presentation', 'Photo']].fillna('No')"
      ],
      "execution_count": null,
      "outputs": []
    },
    {
      "cell_type": "code",
      "metadata": {
        "id": "AapZ07X2LXXu",
        "colab": {
          "base_uri": "https://localhost:8080/"
        },
        "outputId": "6a64beb1-caba-468f-a2a2-f1a1f84f096b"
      },
      "source": [
        "tutors_data_preprocessed.isnull().sum().sum()"
      ],
      "execution_count": null,
      "outputs": [
        {
          "output_type": "execute_result",
          "data": {
            "text/plain": [
              "0"
            ]
          },
          "metadata": {},
          "execution_count": 66
        }
      ]
    },
    {
      "cell_type": "markdown",
      "metadata": {
        "id": "TUOa1V9wF-fF"
      },
      "source": [
        "After reading from the csv file the data contains lists as strings. For the further analysis we need to convert the values to lists."
      ]
    },
    {
      "cell_type": "code",
      "metadata": {
        "id": "32EMXwEAAUMO"
      },
      "source": [
        "cols_with_lists = ['Categories', 'Format', 'Location', 'Tags', 'Audience']"
      ],
      "execution_count": null,
      "outputs": []
    },
    {
      "cell_type": "code",
      "metadata": {
        "id": "QaY1mj3qBJH9"
      },
      "source": [
        "tutors_data_preprocessed['Format'] = tutors_data_preprocessed['Format'].apply(lambda s: str(s).replace(\"at the tutor\\'s\", \"tutors place\"))\n",
        "tutors_data_preprocessed['Format'] = tutors_data_preprocessed['Format'].apply(lambda s: str(s).replace(\"at the student\\'s\", \"students place\"))\n",
        "tutors_data_preprocessed['Location'] = tutors_data_preprocessed['Location'].apply(lambda s: str(s).replace(\"[\\'\", '[\\\"'))\n",
        "tutors_data_preprocessed['Location'] = tutors_data_preprocessed['Location'].apply(lambda s: str(s).replace(\"\\']\", '\\\"]'))\n",
        "tutors_data_preprocessed['Location'] = tutors_data_preprocessed['Location'].apply(lambda s: str(s).replace(\"\\', \\'\", '\\\", \\\"'))"
      ],
      "execution_count": null,
      "outputs": []
    },
    {
      "cell_type": "code",
      "metadata": {
        "id": "OR0kEi0sAg0D"
      },
      "source": [
        "for i in cols_with_lists:\n",
        "    tutors_data_preprocessed[i] = tutors_data_preprocessed[i].apply(lambda s: list(literal_eval(str(s))) if s != np.nan else s)"
      ],
      "execution_count": null,
      "outputs": []
    },
    {
      "cell_type": "code",
      "metadata": {
        "colab": {
          "base_uri": "https://localhost:8080/"
        },
        "id": "UO5-naN7Iadv",
        "outputId": "c6174f5c-2e5d-4bcd-ab6a-6bf0892a8712"
      },
      "source": [
        "type(tutors_data_preprocessed.loc[0, 'Format'])"
      ],
      "execution_count": null,
      "outputs": [
        {
          "output_type": "execute_result",
          "data": {
            "text/plain": [
              "list"
            ]
          },
          "metadata": {},
          "execution_count": 75
        }
      ]
    },
    {
      "cell_type": "code",
      "metadata": {
        "colab": {
          "base_uri": "https://localhost:8080/",
          "height": 289
        },
        "id": "b5Y_x5uPB__X",
        "outputId": "9709f1ae-d7e7-45cb-ad45-c01564927239"
      },
      "source": [
        "tutors_data_preprocessed.head()"
      ],
      "execution_count": null,
      "outputs": [
        {
          "output_type": "execute_result",
          "data": {
            "text/html": [
              "<div>\n",
              "<style scoped>\n",
              "    .dataframe tbody tr th:only-of-type {\n",
              "        vertical-align: middle;\n",
              "    }\n",
              "\n",
              "    .dataframe tbody tr th {\n",
              "        vertical-align: top;\n",
              "    }\n",
              "\n",
              "    .dataframe thead th {\n",
              "        text-align: right;\n",
              "    }\n",
              "</style>\n",
              "<table border=\"1\" class=\"dataframe\">\n",
              "  <thead>\n",
              "    <tr style=\"text-align: right;\">\n",
              "      <th></th>\n",
              "      <th>Categories</th>\n",
              "      <th>Price</th>\n",
              "      <th>Score</th>\n",
              "      <th>Format</th>\n",
              "      <th>Reviews_number</th>\n",
              "      <th>Experience</th>\n",
              "      <th>Status</th>\n",
              "      <th>Location</th>\n",
              "      <th>Tags</th>\n",
              "      <th>Audience</th>\n",
              "      <th>Video_presentation</th>\n",
              "      <th>Photo</th>\n",
              "    </tr>\n",
              "  </thead>\n",
              "  <tbody>\n",
              "    <tr>\n",
              "      <th>0</th>\n",
              "      <td>[German, Spanish]</td>\n",
              "      <td>1800</td>\n",
              "      <td>5.0</td>\n",
              "      <td>[remotely]</td>\n",
              "      <td>26.0</td>\n",
              "      <td>21.0</td>\n",
              "      <td>Private tutor</td>\n",
              "      <td>[]</td>\n",
              "      <td>[]</td>\n",
              "      <td>[All]</td>\n",
              "      <td>No</td>\n",
              "      <td>No</td>\n",
              "    </tr>\n",
              "    <tr>\n",
              "      <th>1</th>\n",
              "      <td>[Mathematics]</td>\n",
              "      <td>2500</td>\n",
              "      <td>4.9</td>\n",
              "      <td>[tutors place, remotely]</td>\n",
              "      <td>41.0</td>\n",
              "      <td>29.0</td>\n",
              "      <td>Private tutor</td>\n",
              "      <td>[metro Schukinskaja]</td>\n",
              "      <td>[ОГЭ (ГИА), ЕГЭ, подготовка к олимпиадам,  шко...</td>\n",
              "      <td>[Pupils of 4-11 grades, Students]</td>\n",
              "      <td>No</td>\n",
              "      <td>Yes</td>\n",
              "    </tr>\n",
              "    <tr>\n",
              "      <th>2</th>\n",
              "      <td>[English]</td>\n",
              "      <td>1500</td>\n",
              "      <td>5.0</td>\n",
              "      <td>[tutors place, students place, remotely]</td>\n",
              "      <td>14.0</td>\n",
              "      <td>11.0</td>\n",
              "      <td>Private tutor</td>\n",
              "      <td>[metro Chertanovskaja]</td>\n",
              "      <td>[ОГЭ (ГИА), ЕГЭ, подготовка к олимпиадам, FCE,...</td>\n",
              "      <td>[Children 6-7 years old, Pupils of 1-11 grades...</td>\n",
              "      <td>Yes</td>\n",
              "      <td>Yes</td>\n",
              "    </tr>\n",
              "    <tr>\n",
              "      <th>3</th>\n",
              "      <td>[Chemistry]</td>\n",
              "      <td>1300</td>\n",
              "      <td>5.0</td>\n",
              "      <td>[remotely]</td>\n",
              "      <td>41.0</td>\n",
              "      <td>39.0</td>\n",
              "      <td>Private tutor</td>\n",
              "      <td>[]</td>\n",
              "      <td>[]</td>\n",
              "      <td>[All]</td>\n",
              "      <td>No</td>\n",
              "      <td>No</td>\n",
              "    </tr>\n",
              "    <tr>\n",
              "      <th>4</th>\n",
              "      <td>[Mathematics]</td>\n",
              "      <td>1500</td>\n",
              "      <td>5.0</td>\n",
              "      <td>[tutors place, students place, remotely]</td>\n",
              "      <td>35.0</td>\n",
              "      <td>9.0</td>\n",
              "      <td>School teacher</td>\n",
              "      <td>[metro Otradnoe, metro Babushkinskaja, metro S...</td>\n",
              "      <td>[ОГЭ (ГИА), ЕГЭ,  школьный курс, Алгебра, Геом...</td>\n",
              "      <td>[Pupils of 5-11 grades]</td>\n",
              "      <td>No</td>\n",
              "      <td>Yes</td>\n",
              "    </tr>\n",
              "  </tbody>\n",
              "</table>\n",
              "</div>"
            ],
            "text/plain": [
              "          Categories  Price  ...  Video_presentation Photo\n",
              "0  [German, Spanish]   1800  ...                  No    No\n",
              "1      [Mathematics]   2500  ...                  No   Yes\n",
              "2          [English]   1500  ...                 Yes   Yes\n",
              "3        [Chemistry]   1300  ...                  No    No\n",
              "4      [Mathematics]   1500  ...                  No   Yes\n",
              "\n",
              "[5 rows x 12 columns]"
            ]
          },
          "metadata": {},
          "execution_count": 76
        }
      ]
    },
    {
      "cell_type": "markdown",
      "metadata": {
        "id": "Rt2e5MNgI7un"
      },
      "source": [
        "Let's apply one-hot encoding for '**`Categories`**', '**`Format`**' and '**`Audience`**'."
      ]
    },
    {
      "cell_type": "code",
      "metadata": {
        "id": "tDvKzZ-LHLkm",
        "colab": {
          "base_uri": "https://localhost:8080/"
        },
        "outputId": "75ffa0ee-b113-4c22-90f7-51d15f36ed07"
      },
      "source": [
        "categories_series = tutors_data_preprocessed['Categories'].explode()\n",
        "categories_series.unique()"
      ],
      "execution_count": null,
      "outputs": [
        {
          "output_type": "execute_result",
          "data": {
            "text/plain": [
              "array(['German', 'Spanish', 'Mathematics', 'English', 'Chemistry',\n",
              "       'Physics', 'Russian', 'Literature', 'Social studies', 'History',\n",
              "       'Music', 'Russian as a foreign language', 'Geography', 'Other',\n",
              "       'Biology', 'Japanese', 'Rare foreign languages',\n",
              "       'Elementary School', 'Informatics / Programming', 'Art', 'French',\n",
              "       'Preschooler activities', 'Speech therapist', 'Economics',\n",
              "       'Italian', 'Sport and fitness', 'Chinese'], dtype=object)"
            ]
          },
          "metadata": {},
          "execution_count": 78
        }
      ]
    },
    {
      "cell_type": "code",
      "metadata": {
        "id": "VZxVUmi036_o"
      },
      "source": [
        "tutors_data_preprocessed = tutors_data_preprocessed.join(pd.crosstab(categories_series.index, categories_series))"
      ],
      "execution_count": null,
      "outputs": []
    },
    {
      "cell_type": "code",
      "metadata": {
        "colab": {
          "base_uri": "https://localhost:8080/"
        },
        "id": "vQneUtjuJ7on",
        "outputId": "6d272531-0df4-4791-d7cc-0322e921264d"
      },
      "source": [
        "categories_list = tutors_data_preprocessed.columns[12:39]\n",
        "tutors_data_preprocessed[categories_list].sum()"
      ],
      "execution_count": null,
      "outputs": [
        {
          "output_type": "execute_result",
          "data": {
            "text/plain": [
              "Art                               2080\n",
              "Biology                           3538\n",
              "Chemistry                         4805\n",
              "Chinese                           2019\n",
              "Economics                          756\n",
              "Elementary School                 5316\n",
              "English                          31930\n",
              "French                            3923\n",
              "Geography                          939\n",
              "German                            4019\n",
              "History                           5047\n",
              "Informatics / Programming         3488\n",
              "Italian                           1002\n",
              "Japanese                           550\n",
              "Literature                        4039\n",
              "Mathematics                      18629\n",
              "Music                             6729\n",
              "Other                             4726\n",
              "Physics                           6001\n",
              "Preschooler activities            4165\n",
              "Rare foreign languages            2261\n",
              "Russian                          11751\n",
              "Russian as a foreign language     2611\n",
              "Social studies                    5453\n",
              "Spanish                           2409\n",
              "Speech therapist                   999\n",
              "Sport and fitness                 1169\n",
              "dtype: int64"
            ]
          },
          "metadata": {},
          "execution_count": 82
        }
      ]
    },
    {
      "cell_type": "markdown",
      "metadata": {
        "id": "VkITXUQkKUoM"
      },
      "source": [
        "The most popular category for tutoring is 'English' - 31 390 tutors on '*repetit.ru*'. The second is 'Mathematics' - 18 629 tutors. And the third is 'Russian' - 11 751 tutors. Does the current generation of russian kids have problems with the native language? Not necessarily, they just prepare for the compulsory exam 'ЕГЭ' (The Unified State Exam, Russian: Единый государственный экзамен, ЕГЭ, Yediniy gosudarstvenniy ekzamen, EGE). Not surprising. let's move on."
      ]
    },
    {
      "cell_type": "code",
      "metadata": {
        "colab": {
          "base_uri": "https://localhost:8080/"
        },
        "id": "-pDpeZbdN-u-",
        "outputId": "4b0f9d99-09a6-4e15-a4e8-f787f83e448b"
      },
      "source": [
        "format_series = tutors_data_preprocessed['Format'].explode()\n",
        "format_series.unique()"
      ],
      "execution_count": null,
      "outputs": [
        {
          "output_type": "execute_result",
          "data": {
            "text/plain": [
              "array(['remotely', 'tutors place', 'students place'], dtype=object)"
            ]
          },
          "metadata": {},
          "execution_count": 83
        }
      ]
    },
    {
      "cell_type": "code",
      "metadata": {
        "id": "rUkGZLQDOlxG"
      },
      "source": [
        "tutors_data_preprocessed = tutors_data_preprocessed.join(pd.crosstab(format_series.index, format_series))"
      ],
      "execution_count": null,
      "outputs": []
    },
    {
      "cell_type": "markdown",
      "metadata": {
        "id": "PoOhwbkWMS_L"
      },
      "source": [
        "Now let's look closely at the '**`Audience`**'. We have lots of similar entries here so we need to shorten the list of unique variables. We'll divide this huge amount of similar variables into the following general groups:\n",
        "\n",
        "*   All\n",
        "*   Adults\n",
        "*   Students\n",
        "*   Pupils of 10-11 grades (Russian schools have 11 grades)\n",
        "*   Pupils of 5-9 grades\n",
        "*   Pupils of 1-4 grades\n",
        "*   Children 6-7 years old\n",
        "*   Children 4-5 years old\n",
        "*   Children 1-3 years old"
      ]
    },
    {
      "cell_type": "code",
      "metadata": {
        "colab": {
          "base_uri": "https://localhost:8080/"
        },
        "id": "dD9YTk6XIwjk",
        "outputId": "be0fe7a7-39c0-476c-b2f5-00fe4d071af6"
      },
      "source": [
        "audience_series = tutors_data_preprocessed['Audience'].explode()\n",
        "audience_list = audience_series.unique()\n",
        "audience_list"
      ],
      "execution_count": null,
      "outputs": [
        {
          "output_type": "execute_result",
          "data": {
            "text/plain": [
              "array(['All', 'Pupils of 4-11 grades', 'Students',\n",
              "       'Children 6-7 years old', 'Pupils of 1-11 grades', 'Adults',\n",
              "       'Pupils of 5-11 grades', 'Pupils of 7-11 grades',\n",
              "       'Children 1-3 года', 'Children 4-5 years old',\n",
              "       'Pupils of 6-11 grades', 'Pupils of 8-11 grades',\n",
              "       'Pupils of 3-8 grades', 'Pupils of 9-11 grades',\n",
              "       'Pupils of 2-11 grades', 'Pupils of 10-11 grades',\n",
              "       'Pupils of 3-11 grades', 'Pupils of 2-9 grades',\n",
              "       'Pupils of 5-9 grades', 'Pupils of 1-9 grades',\n",
              "       'Pupils of 7-9 grades', 'Pupils of 3-9 grades',\n",
              "       'Pupils of 11 grade', 'Pupils of 2-4 grades',\n",
              "       'Pupils of 1-8 grades', 'Pupils of 1-5 grades', 'Pupils of 5-8',\n",
              "       '10 grades', 'Pupils of 6-10 grades', 'Pupils of 1-10 grades',\n",
              "       'Pupils of 1-4 grades', 'Pupils of 1-6 grades',\n",
              "       'Pupils of 4-10 grades', 'Pupils of 5-10 grades',\n",
              "       'Pupils of 3-10 grades', 'Pupils of 4-9 grades',\n",
              "       'Pupils of 2-8 grades', 'Pupils of 2', '9-11 grades',\n",
              "       'Pupils of 1-7 grades', 'Pupils of 8-9 grades',\n",
              "       'Pupils of 5-8 grades', 'Pupils of 1', '3-11 grades',\n",
              "       'Pupils of 8-10 grades', 'Pupils of 1-8', 'Pupils of 9 grade',\n",
              "       'Pupils of 4-8 grades', 'Pupils of 1 grade', 'Pupils of 6',\n",
              "       '8-11 grades', 'Pupils of 7-10 grades', 'Pupils of 6-9 grades',\n",
              "       'Pupils of 1-2', '10-11 grades', 'Pupils of 6-9', '11 grades',\n",
              "       'Pupils of 4-5', '7-11 grades', 'Pupils of 2-10 grades',\n",
              "       '4-11 grades', 'Pupils of 2-7 grades', '6-11 grades',\n",
              "       'Pupils of 2-8', 'Pupils of 5-7 grades', 'Pupils of 1-5',\n",
              "       'Pupils of 9', 'Pupils of 1-3', '5-11 grades',\n",
              "       'Pupils of 3-7 grades', 'Pupils of 1-3 grades',\n",
              "       'Pupils of 1-2 grades', 'Pupils of 6-7 grades',\n",
              "       'Pupils of 6-8 grades', 'Pupils of 7-8 grades',\n",
              "       'Pupils of 2-5 grades', 'Pupils of 4-7 grades',\n",
              "       'Pupils of 2-6 grades', 'Pupils of 1-4', 'Pupils of 3-6 grades',\n",
              "       'Pupils of 5 grade', 'Pupils of 5-9', 'Pupils of 2-3 grades',\n",
              "       'Pupils of 4-6 grades', 'Pupils of 4 grade',\n",
              "       'Pupils of 3-4 grades', '6-10 grades', 'Pupils of 9-10 grades',\n",
              "       'Pupils of 5-6 grades', 'Pupils of 8', 'Pupils of 1-7',\n",
              "       'Pupils of 7-8', 'Pupils of 3-4', '7 grades', 'Pupils of 5',\n",
              "       'Pupils of 1-9', 'Pupils of 4-5 grades', 'Pupils of 3-6',\n",
              "       '9 grades', 'Pupils of 7', 'Pupils of 4-8', 'Pupils of 3-5',\n",
              "       'Pupils of 1-6', 'Pupils of 5-7', 'Pupils of 2-3', 'Pupils of 5-6',\n",
              "       'Pupils of 6-7', 'Pupils of 10 grade'], dtype=object)"
            ]
          },
          "metadata": {},
          "execution_count": 86
        }
      ]
    },
    {
      "cell_type": "markdown",
      "metadata": {
        "id": "F4hjFRdXNqPv"
      },
      "source": [
        "Function to replace rows in the data with similar values"
      ]
    },
    {
      "cell_type": "code",
      "metadata": {
        "id": "ywydB5MKQnb2"
      },
      "source": [
        "def replace_matches_in_column(df, col, string_to_match, replacing, min_ratio = 50):\n",
        "    exploded_df = df.explode(column=col)\n",
        "    strings = exploded_df[col].unique()\n",
        "    \n",
        "    matches = fuzzywuzzy.process.extract(string_to_match, strings, \n",
        "                                         limit=30, scorer=fuzzywuzzy.fuzz.token_sort_ratio)\n",
        "    close_matches = [matches[0] for matches in matches if matches[1] >= min_ratio]\n",
        "    rows_with_matches = exploded_df[col].isin(close_matches)\n",
        "\n",
        "\n",
        "    exploded_df.loc[rows_with_matches] = replacing\n",
        "    imploded_column = exploded_df.groupby(exploded_df.index).agg({col: lambda x: x.tolist()})\n",
        "    df[col] = imploded_column"
      ],
      "execution_count": null,
      "outputs": []
    },
    {
      "cell_type": "markdown",
      "metadata": {
        "id": "qleT4RV3OX0i"
      },
      "source": [
        "Replacing"
      ]
    },
    {
      "cell_type": "code",
      "metadata": {
        "id": "M0EjW1JlITfa"
      },
      "source": [
        "for i in ['11', '10']:\n",
        "    replace_matches_in_column(df=tutors_data_preprocessed, col='Audience', string_to_match=i, replacing='Pupils of 10-11 grades', min_ratio=17)\n",
        "for i in ['9', '8', '7', '6', '5']:\n",
        "    replace_matches_in_column(df=tutors_data_preprocessed, col='Audience', string_to_match=i, replacing='Pupils of 5-9 grades', min_ratio=10)\n",
        "replace_matches_in_column(df=tutors_data_preprocessed, col='Audience', string_to_match='4', replacing='Pupils of 1-4 grades', min_ratio=10)\n",
        "for i in ['3', '2']:\n",
        "    replace_matches_in_column(df=tutors_data_preprocessed, col='Audience', string_to_match='Pupils of ' + i, replacing='Pupils of 1-4 grades', min_ratio=71)\n",
        "replace_matches_in_column(df=tutors_data_preprocessed, col='Audience', string_to_match='Children 1-3 года', replacing='Children 1-3 years old', min_ratio=100)"
      ],
      "execution_count": null,
      "outputs": []
    },
    {
      "cell_type": "markdown",
      "metadata": {
        "id": "_Q0wnYHcOaj0"
      },
      "source": [
        "Check '**`Audience`**'"
      ]
    },
    {
      "cell_type": "code",
      "metadata": {
        "colab": {
          "base_uri": "https://localhost:8080/"
        },
        "id": "rDbVuwr5JOnM",
        "outputId": "61fec7b8-75ea-4c48-9324-56b6a188906f"
      },
      "source": [
        "audience_series = tutors_data_preprocessed['Audience'].explode()\n",
        "audience_list = audience_series.unique()\n",
        "audience_list"
      ],
      "execution_count": null,
      "outputs": [
        {
          "output_type": "execute_result",
          "data": {
            "text/plain": [
              "array(['All', 'Pupils of 10-11 grades', 'Students',\n",
              "       'Children 6-7 years old', 'Adults', 'Children 1-3 years old',\n",
              "       'Children 4-5 years old', 'Pupils of 5-9 grades',\n",
              "       'Pupils of 1-4 grades'], dtype=object)"
            ]
          },
          "metadata": {},
          "execution_count": 89
        }
      ]
    },
    {
      "cell_type": "code",
      "metadata": {
        "id": "5VlRSHUKP9Cm"
      },
      "source": [
        "tutors_data_preprocessed = tutors_data_preprocessed.join(pd.crosstab(audience_series.index, audience_series))"
      ],
      "execution_count": null,
      "outputs": []
    },
    {
      "cell_type": "markdown",
      "metadata": {
        "id": "9z2T0T8pPGu_"
      },
      "source": [
        "Let's drop encoded features with lists. We are also dropping unencoded '**`Location`**' due to covid situation because most people will prefer to work remotely in order not to get infected."
      ]
    },
    {
      "cell_type": "code",
      "metadata": {
        "id": "oFfT-Aa5QPc9"
      },
      "source": [
        "tutors_data_preprocessed = tutors_data_preprocessed.drop(cols_with_lists, axis=1)"
      ],
      "execution_count": null,
      "outputs": []
    },
    {
      "cell_type": "code",
      "metadata": {
        "colab": {
          "base_uri": "https://localhost:8080/",
          "height": 360
        },
        "id": "6LRE2_6YOosL",
        "outputId": "41fdbce0-6747-4572-e4d3-f1f464ae53f0"
      },
      "source": [
        "tutors_data_preprocessed.head()"
      ],
      "execution_count": null,
      "outputs": [
        {
          "output_type": "execute_result",
          "data": {
            "text/html": [
              "<div>\n",
              "<style scoped>\n",
              "    .dataframe tbody tr th:only-of-type {\n",
              "        vertical-align: middle;\n",
              "    }\n",
              "\n",
              "    .dataframe tbody tr th {\n",
              "        vertical-align: top;\n",
              "    }\n",
              "\n",
              "    .dataframe thead th {\n",
              "        text-align: right;\n",
              "    }\n",
              "</style>\n",
              "<table border=\"1\" class=\"dataframe\">\n",
              "  <thead>\n",
              "    <tr style=\"text-align: right;\">\n",
              "      <th></th>\n",
              "      <th>Price</th>\n",
              "      <th>Score</th>\n",
              "      <th>Reviews_number</th>\n",
              "      <th>Experience</th>\n",
              "      <th>Status</th>\n",
              "      <th>Video_presentation</th>\n",
              "      <th>Photo</th>\n",
              "      <th>Art</th>\n",
              "      <th>Biology</th>\n",
              "      <th>Chemistry</th>\n",
              "      <th>Chinese</th>\n",
              "      <th>Economics</th>\n",
              "      <th>Elementary School</th>\n",
              "      <th>English</th>\n",
              "      <th>French</th>\n",
              "      <th>Geography</th>\n",
              "      <th>German</th>\n",
              "      <th>History</th>\n",
              "      <th>Informatics / Programming</th>\n",
              "      <th>Italian</th>\n",
              "      <th>Japanese</th>\n",
              "      <th>Literature</th>\n",
              "      <th>Mathematics</th>\n",
              "      <th>Music</th>\n",
              "      <th>Other</th>\n",
              "      <th>Physics</th>\n",
              "      <th>Preschooler activities</th>\n",
              "      <th>Rare foreign languages</th>\n",
              "      <th>Russian</th>\n",
              "      <th>Russian as a foreign language</th>\n",
              "      <th>Social studies</th>\n",
              "      <th>Spanish</th>\n",
              "      <th>Speech therapist</th>\n",
              "      <th>Sport and fitness</th>\n",
              "      <th>remotely</th>\n",
              "      <th>students place</th>\n",
              "      <th>tutors place</th>\n",
              "      <th>Adults</th>\n",
              "      <th>All</th>\n",
              "      <th>Children 1-3 years old</th>\n",
              "      <th>Children 4-5 years old</th>\n",
              "      <th>Children 6-7 years old</th>\n",
              "      <th>Pupils of 1-4 grades</th>\n",
              "      <th>Pupils of 10-11 grades</th>\n",
              "      <th>Pupils of 5-9 grades</th>\n",
              "      <th>Students</th>\n",
              "    </tr>\n",
              "  </thead>\n",
              "  <tbody>\n",
              "    <tr>\n",
              "      <th>0</th>\n",
              "      <td>1800</td>\n",
              "      <td>5.0</td>\n",
              "      <td>26.0</td>\n",
              "      <td>21.0</td>\n",
              "      <td>Private tutor</td>\n",
              "      <td>No</td>\n",
              "      <td>No</td>\n",
              "      <td>0</td>\n",
              "      <td>0</td>\n",
              "      <td>0</td>\n",
              "      <td>0</td>\n",
              "      <td>0</td>\n",
              "      <td>0</td>\n",
              "      <td>0</td>\n",
              "      <td>0</td>\n",
              "      <td>0</td>\n",
              "      <td>1</td>\n",
              "      <td>0</td>\n",
              "      <td>0</td>\n",
              "      <td>0</td>\n",
              "      <td>0</td>\n",
              "      <td>0</td>\n",
              "      <td>0</td>\n",
              "      <td>0</td>\n",
              "      <td>0</td>\n",
              "      <td>0</td>\n",
              "      <td>0</td>\n",
              "      <td>0</td>\n",
              "      <td>0</td>\n",
              "      <td>0</td>\n",
              "      <td>0</td>\n",
              "      <td>1</td>\n",
              "      <td>0</td>\n",
              "      <td>0</td>\n",
              "      <td>1</td>\n",
              "      <td>0</td>\n",
              "      <td>0</td>\n",
              "      <td>0</td>\n",
              "      <td>1</td>\n",
              "      <td>0</td>\n",
              "      <td>0</td>\n",
              "      <td>0</td>\n",
              "      <td>0</td>\n",
              "      <td>0</td>\n",
              "      <td>0</td>\n",
              "      <td>0</td>\n",
              "    </tr>\n",
              "    <tr>\n",
              "      <th>1</th>\n",
              "      <td>2500</td>\n",
              "      <td>4.9</td>\n",
              "      <td>41.0</td>\n",
              "      <td>29.0</td>\n",
              "      <td>Private tutor</td>\n",
              "      <td>No</td>\n",
              "      <td>Yes</td>\n",
              "      <td>0</td>\n",
              "      <td>0</td>\n",
              "      <td>0</td>\n",
              "      <td>0</td>\n",
              "      <td>0</td>\n",
              "      <td>0</td>\n",
              "      <td>0</td>\n",
              "      <td>0</td>\n",
              "      <td>0</td>\n",
              "      <td>0</td>\n",
              "      <td>0</td>\n",
              "      <td>0</td>\n",
              "      <td>0</td>\n",
              "      <td>0</td>\n",
              "      <td>0</td>\n",
              "      <td>1</td>\n",
              "      <td>0</td>\n",
              "      <td>0</td>\n",
              "      <td>0</td>\n",
              "      <td>0</td>\n",
              "      <td>0</td>\n",
              "      <td>0</td>\n",
              "      <td>0</td>\n",
              "      <td>0</td>\n",
              "      <td>0</td>\n",
              "      <td>0</td>\n",
              "      <td>0</td>\n",
              "      <td>1</td>\n",
              "      <td>0</td>\n",
              "      <td>1</td>\n",
              "      <td>0</td>\n",
              "      <td>0</td>\n",
              "      <td>0</td>\n",
              "      <td>0</td>\n",
              "      <td>0</td>\n",
              "      <td>0</td>\n",
              "      <td>1</td>\n",
              "      <td>0</td>\n",
              "      <td>1</td>\n",
              "    </tr>\n",
              "    <tr>\n",
              "      <th>2</th>\n",
              "      <td>1500</td>\n",
              "      <td>5.0</td>\n",
              "      <td>14.0</td>\n",
              "      <td>11.0</td>\n",
              "      <td>Private tutor</td>\n",
              "      <td>Yes</td>\n",
              "      <td>Yes</td>\n",
              "      <td>0</td>\n",
              "      <td>0</td>\n",
              "      <td>0</td>\n",
              "      <td>0</td>\n",
              "      <td>0</td>\n",
              "      <td>0</td>\n",
              "      <td>1</td>\n",
              "      <td>0</td>\n",
              "      <td>0</td>\n",
              "      <td>0</td>\n",
              "      <td>0</td>\n",
              "      <td>0</td>\n",
              "      <td>0</td>\n",
              "      <td>0</td>\n",
              "      <td>0</td>\n",
              "      <td>0</td>\n",
              "      <td>0</td>\n",
              "      <td>0</td>\n",
              "      <td>0</td>\n",
              "      <td>0</td>\n",
              "      <td>0</td>\n",
              "      <td>0</td>\n",
              "      <td>0</td>\n",
              "      <td>0</td>\n",
              "      <td>0</td>\n",
              "      <td>0</td>\n",
              "      <td>0</td>\n",
              "      <td>1</td>\n",
              "      <td>1</td>\n",
              "      <td>1</td>\n",
              "      <td>1</td>\n",
              "      <td>0</td>\n",
              "      <td>0</td>\n",
              "      <td>0</td>\n",
              "      <td>1</td>\n",
              "      <td>0</td>\n",
              "      <td>1</td>\n",
              "      <td>0</td>\n",
              "      <td>1</td>\n",
              "    </tr>\n",
              "    <tr>\n",
              "      <th>3</th>\n",
              "      <td>1300</td>\n",
              "      <td>5.0</td>\n",
              "      <td>41.0</td>\n",
              "      <td>39.0</td>\n",
              "      <td>Private tutor</td>\n",
              "      <td>No</td>\n",
              "      <td>No</td>\n",
              "      <td>0</td>\n",
              "      <td>0</td>\n",
              "      <td>1</td>\n",
              "      <td>0</td>\n",
              "      <td>0</td>\n",
              "      <td>0</td>\n",
              "      <td>0</td>\n",
              "      <td>0</td>\n",
              "      <td>0</td>\n",
              "      <td>0</td>\n",
              "      <td>0</td>\n",
              "      <td>0</td>\n",
              "      <td>0</td>\n",
              "      <td>0</td>\n",
              "      <td>0</td>\n",
              "      <td>0</td>\n",
              "      <td>0</td>\n",
              "      <td>0</td>\n",
              "      <td>0</td>\n",
              "      <td>0</td>\n",
              "      <td>0</td>\n",
              "      <td>0</td>\n",
              "      <td>0</td>\n",
              "      <td>0</td>\n",
              "      <td>0</td>\n",
              "      <td>0</td>\n",
              "      <td>0</td>\n",
              "      <td>1</td>\n",
              "      <td>0</td>\n",
              "      <td>0</td>\n",
              "      <td>0</td>\n",
              "      <td>1</td>\n",
              "      <td>0</td>\n",
              "      <td>0</td>\n",
              "      <td>0</td>\n",
              "      <td>0</td>\n",
              "      <td>0</td>\n",
              "      <td>0</td>\n",
              "      <td>0</td>\n",
              "    </tr>\n",
              "    <tr>\n",
              "      <th>4</th>\n",
              "      <td>1500</td>\n",
              "      <td>5.0</td>\n",
              "      <td>35.0</td>\n",
              "      <td>9.0</td>\n",
              "      <td>School teacher</td>\n",
              "      <td>No</td>\n",
              "      <td>Yes</td>\n",
              "      <td>0</td>\n",
              "      <td>0</td>\n",
              "      <td>0</td>\n",
              "      <td>0</td>\n",
              "      <td>0</td>\n",
              "      <td>0</td>\n",
              "      <td>0</td>\n",
              "      <td>0</td>\n",
              "      <td>0</td>\n",
              "      <td>0</td>\n",
              "      <td>0</td>\n",
              "      <td>0</td>\n",
              "      <td>0</td>\n",
              "      <td>0</td>\n",
              "      <td>0</td>\n",
              "      <td>1</td>\n",
              "      <td>0</td>\n",
              "      <td>0</td>\n",
              "      <td>0</td>\n",
              "      <td>0</td>\n",
              "      <td>0</td>\n",
              "      <td>0</td>\n",
              "      <td>0</td>\n",
              "      <td>0</td>\n",
              "      <td>0</td>\n",
              "      <td>0</td>\n",
              "      <td>0</td>\n",
              "      <td>1</td>\n",
              "      <td>1</td>\n",
              "      <td>1</td>\n",
              "      <td>0</td>\n",
              "      <td>0</td>\n",
              "      <td>0</td>\n",
              "      <td>0</td>\n",
              "      <td>0</td>\n",
              "      <td>0</td>\n",
              "      <td>1</td>\n",
              "      <td>0</td>\n",
              "      <td>0</td>\n",
              "    </tr>\n",
              "  </tbody>\n",
              "</table>\n",
              "</div>"
            ],
            "text/plain": [
              "   Price  Score  ...  Pupils of 5-9 grades  Students\n",
              "0   1800    5.0  ...                     0         0\n",
              "1   2500    4.9  ...                     0         1\n",
              "2   1500    5.0  ...                     0         1\n",
              "3   1300    5.0  ...                     0         0\n",
              "4   1500    5.0  ...                     0         0\n",
              "\n",
              "[5 rows x 46 columns]"
            ]
          },
          "metadata": {},
          "execution_count": 94
        }
      ]
    },
    {
      "cell_type": "markdown",
      "metadata": {
        "id": "rJkshcH2PQ9C"
      },
      "source": [
        "It only remains to encode '**`Status`**', '**`Video_presentation`**' and '**`Photo`**' columns."
      ]
    },
    {
      "cell_type": "code",
      "metadata": {
        "id": "nE-jblqGZzWM"
      },
      "source": [
        "status_coding = {'Private tutor': '4', 'School teacher': '2', 'Postgraduate student': '3',\n",
        "       'Native speaker': '6', 'University professor': '5', 'Student': '1', '-': '0'}"
      ],
      "execution_count": null,
      "outputs": []
    },
    {
      "cell_type": "code",
      "metadata": {
        "id": "7sXJS7OBaOK0"
      },
      "source": [
        "for elem in status_coding:\n",
        "    tutors_data_preprocessed['Status'] = tutors_data_preprocessed['Status'].apply(lambda x: (str(x).replace(elem, status_coding[elem])))\n",
        "for i in ['Video_presentation', 'Photo']:\n",
        "    tutors_data_preprocessed[i] = tutors_data_preprocessed[i].apply(lambda x: 1 if str(x) == 'Yes' else 0)"
      ],
      "execution_count": null,
      "outputs": []
    },
    {
      "cell_type": "code",
      "metadata": {
        "id": "3GgbOtdfbVqR"
      },
      "source": [
        "for i in ['Status', 'Reviews_number', 'Experience']:\n",
        "    tutors_data_preprocessed = tutors_data_preprocessed.astype({i: 'int64'})"
      ],
      "execution_count": null,
      "outputs": []
    },
    {
      "cell_type": "code",
      "metadata": {
        "colab": {
          "base_uri": "https://localhost:8080/",
          "height": 275
        },
        "id": "jhpveCg8QSgu",
        "outputId": "e227a6de-76de-4b54-8409-38bd066cab19"
      },
      "source": [
        "tutors_data_preprocessed.head()"
      ],
      "execution_count": null,
      "outputs": [
        {
          "output_type": "execute_result",
          "data": {
            "text/html": [
              "<div>\n",
              "<style scoped>\n",
              "    .dataframe tbody tr th:only-of-type {\n",
              "        vertical-align: middle;\n",
              "    }\n",
              "\n",
              "    .dataframe tbody tr th {\n",
              "        vertical-align: top;\n",
              "    }\n",
              "\n",
              "    .dataframe thead th {\n",
              "        text-align: right;\n",
              "    }\n",
              "</style>\n",
              "<table border=\"1\" class=\"dataframe\">\n",
              "  <thead>\n",
              "    <tr style=\"text-align: right;\">\n",
              "      <th></th>\n",
              "      <th>Price</th>\n",
              "      <th>Score</th>\n",
              "      <th>Reviews_number</th>\n",
              "      <th>Experience</th>\n",
              "      <th>Status</th>\n",
              "      <th>Video_presentation</th>\n",
              "      <th>Photo</th>\n",
              "      <th>Art</th>\n",
              "      <th>Biology</th>\n",
              "      <th>Chemistry</th>\n",
              "      <th>Chinese</th>\n",
              "      <th>Economics</th>\n",
              "      <th>Elementary School</th>\n",
              "      <th>English</th>\n",
              "      <th>French</th>\n",
              "      <th>Geography</th>\n",
              "      <th>German</th>\n",
              "      <th>History</th>\n",
              "      <th>Informatics / Programming</th>\n",
              "      <th>Italian</th>\n",
              "      <th>Japanese</th>\n",
              "      <th>Literature</th>\n",
              "      <th>Mathematics</th>\n",
              "      <th>Music</th>\n",
              "      <th>Other</th>\n",
              "      <th>Physics</th>\n",
              "      <th>Preschooler activities</th>\n",
              "      <th>Rare foreign languages</th>\n",
              "      <th>Russian</th>\n",
              "      <th>Russian as a foreign language</th>\n",
              "      <th>Social studies</th>\n",
              "      <th>Spanish</th>\n",
              "      <th>Speech therapist</th>\n",
              "      <th>Sport and fitness</th>\n",
              "      <th>remotely</th>\n",
              "      <th>students place</th>\n",
              "      <th>tutors place</th>\n",
              "      <th>Adults</th>\n",
              "      <th>All</th>\n",
              "      <th>Children 1-3 years old</th>\n",
              "      <th>Children 4-5 years old</th>\n",
              "      <th>Children 6-7 years old</th>\n",
              "      <th>Pupils of 1-4 grades</th>\n",
              "      <th>Pupils of 10-11 grades</th>\n",
              "      <th>Pupils of 5-9 grades</th>\n",
              "      <th>Students</th>\n",
              "    </tr>\n",
              "  </thead>\n",
              "  <tbody>\n",
              "    <tr>\n",
              "      <th>0</th>\n",
              "      <td>1800</td>\n",
              "      <td>5.0</td>\n",
              "      <td>26</td>\n",
              "      <td>21</td>\n",
              "      <td>4</td>\n",
              "      <td>0</td>\n",
              "      <td>0</td>\n",
              "      <td>0</td>\n",
              "      <td>0</td>\n",
              "      <td>0</td>\n",
              "      <td>0</td>\n",
              "      <td>0</td>\n",
              "      <td>0</td>\n",
              "      <td>0</td>\n",
              "      <td>0</td>\n",
              "      <td>0</td>\n",
              "      <td>1</td>\n",
              "      <td>0</td>\n",
              "      <td>0</td>\n",
              "      <td>0</td>\n",
              "      <td>0</td>\n",
              "      <td>0</td>\n",
              "      <td>0</td>\n",
              "      <td>0</td>\n",
              "      <td>0</td>\n",
              "      <td>0</td>\n",
              "      <td>0</td>\n",
              "      <td>0</td>\n",
              "      <td>0</td>\n",
              "      <td>0</td>\n",
              "      <td>0</td>\n",
              "      <td>1</td>\n",
              "      <td>0</td>\n",
              "      <td>0</td>\n",
              "      <td>1</td>\n",
              "      <td>0</td>\n",
              "      <td>0</td>\n",
              "      <td>0</td>\n",
              "      <td>1</td>\n",
              "      <td>0</td>\n",
              "      <td>0</td>\n",
              "      <td>0</td>\n",
              "      <td>0</td>\n",
              "      <td>0</td>\n",
              "      <td>0</td>\n",
              "      <td>0</td>\n",
              "    </tr>\n",
              "    <tr>\n",
              "      <th>1</th>\n",
              "      <td>2500</td>\n",
              "      <td>4.9</td>\n",
              "      <td>41</td>\n",
              "      <td>29</td>\n",
              "      <td>4</td>\n",
              "      <td>0</td>\n",
              "      <td>1</td>\n",
              "      <td>0</td>\n",
              "      <td>0</td>\n",
              "      <td>0</td>\n",
              "      <td>0</td>\n",
              "      <td>0</td>\n",
              "      <td>0</td>\n",
              "      <td>0</td>\n",
              "      <td>0</td>\n",
              "      <td>0</td>\n",
              "      <td>0</td>\n",
              "      <td>0</td>\n",
              "      <td>0</td>\n",
              "      <td>0</td>\n",
              "      <td>0</td>\n",
              "      <td>0</td>\n",
              "      <td>1</td>\n",
              "      <td>0</td>\n",
              "      <td>0</td>\n",
              "      <td>0</td>\n",
              "      <td>0</td>\n",
              "      <td>0</td>\n",
              "      <td>0</td>\n",
              "      <td>0</td>\n",
              "      <td>0</td>\n",
              "      <td>0</td>\n",
              "      <td>0</td>\n",
              "      <td>0</td>\n",
              "      <td>1</td>\n",
              "      <td>0</td>\n",
              "      <td>1</td>\n",
              "      <td>0</td>\n",
              "      <td>0</td>\n",
              "      <td>0</td>\n",
              "      <td>0</td>\n",
              "      <td>0</td>\n",
              "      <td>0</td>\n",
              "      <td>1</td>\n",
              "      <td>0</td>\n",
              "      <td>1</td>\n",
              "    </tr>\n",
              "    <tr>\n",
              "      <th>2</th>\n",
              "      <td>1500</td>\n",
              "      <td>5.0</td>\n",
              "      <td>14</td>\n",
              "      <td>11</td>\n",
              "      <td>4</td>\n",
              "      <td>1</td>\n",
              "      <td>1</td>\n",
              "      <td>0</td>\n",
              "      <td>0</td>\n",
              "      <td>0</td>\n",
              "      <td>0</td>\n",
              "      <td>0</td>\n",
              "      <td>0</td>\n",
              "      <td>1</td>\n",
              "      <td>0</td>\n",
              "      <td>0</td>\n",
              "      <td>0</td>\n",
              "      <td>0</td>\n",
              "      <td>0</td>\n",
              "      <td>0</td>\n",
              "      <td>0</td>\n",
              "      <td>0</td>\n",
              "      <td>0</td>\n",
              "      <td>0</td>\n",
              "      <td>0</td>\n",
              "      <td>0</td>\n",
              "      <td>0</td>\n",
              "      <td>0</td>\n",
              "      <td>0</td>\n",
              "      <td>0</td>\n",
              "      <td>0</td>\n",
              "      <td>0</td>\n",
              "      <td>0</td>\n",
              "      <td>0</td>\n",
              "      <td>1</td>\n",
              "      <td>1</td>\n",
              "      <td>1</td>\n",
              "      <td>1</td>\n",
              "      <td>0</td>\n",
              "      <td>0</td>\n",
              "      <td>0</td>\n",
              "      <td>1</td>\n",
              "      <td>0</td>\n",
              "      <td>1</td>\n",
              "      <td>0</td>\n",
              "      <td>1</td>\n",
              "    </tr>\n",
              "    <tr>\n",
              "      <th>3</th>\n",
              "      <td>1300</td>\n",
              "      <td>5.0</td>\n",
              "      <td>41</td>\n",
              "      <td>39</td>\n",
              "      <td>4</td>\n",
              "      <td>0</td>\n",
              "      <td>0</td>\n",
              "      <td>0</td>\n",
              "      <td>0</td>\n",
              "      <td>1</td>\n",
              "      <td>0</td>\n",
              "      <td>0</td>\n",
              "      <td>0</td>\n",
              "      <td>0</td>\n",
              "      <td>0</td>\n",
              "      <td>0</td>\n",
              "      <td>0</td>\n",
              "      <td>0</td>\n",
              "      <td>0</td>\n",
              "      <td>0</td>\n",
              "      <td>0</td>\n",
              "      <td>0</td>\n",
              "      <td>0</td>\n",
              "      <td>0</td>\n",
              "      <td>0</td>\n",
              "      <td>0</td>\n",
              "      <td>0</td>\n",
              "      <td>0</td>\n",
              "      <td>0</td>\n",
              "      <td>0</td>\n",
              "      <td>0</td>\n",
              "      <td>0</td>\n",
              "      <td>0</td>\n",
              "      <td>0</td>\n",
              "      <td>1</td>\n",
              "      <td>0</td>\n",
              "      <td>0</td>\n",
              "      <td>0</td>\n",
              "      <td>1</td>\n",
              "      <td>0</td>\n",
              "      <td>0</td>\n",
              "      <td>0</td>\n",
              "      <td>0</td>\n",
              "      <td>0</td>\n",
              "      <td>0</td>\n",
              "      <td>0</td>\n",
              "    </tr>\n",
              "    <tr>\n",
              "      <th>4</th>\n",
              "      <td>1500</td>\n",
              "      <td>5.0</td>\n",
              "      <td>35</td>\n",
              "      <td>9</td>\n",
              "      <td>2</td>\n",
              "      <td>0</td>\n",
              "      <td>1</td>\n",
              "      <td>0</td>\n",
              "      <td>0</td>\n",
              "      <td>0</td>\n",
              "      <td>0</td>\n",
              "      <td>0</td>\n",
              "      <td>0</td>\n",
              "      <td>0</td>\n",
              "      <td>0</td>\n",
              "      <td>0</td>\n",
              "      <td>0</td>\n",
              "      <td>0</td>\n",
              "      <td>0</td>\n",
              "      <td>0</td>\n",
              "      <td>0</td>\n",
              "      <td>0</td>\n",
              "      <td>1</td>\n",
              "      <td>0</td>\n",
              "      <td>0</td>\n",
              "      <td>0</td>\n",
              "      <td>0</td>\n",
              "      <td>0</td>\n",
              "      <td>0</td>\n",
              "      <td>0</td>\n",
              "      <td>0</td>\n",
              "      <td>0</td>\n",
              "      <td>0</td>\n",
              "      <td>0</td>\n",
              "      <td>1</td>\n",
              "      <td>1</td>\n",
              "      <td>1</td>\n",
              "      <td>0</td>\n",
              "      <td>0</td>\n",
              "      <td>0</td>\n",
              "      <td>0</td>\n",
              "      <td>0</td>\n",
              "      <td>0</td>\n",
              "      <td>1</td>\n",
              "      <td>0</td>\n",
              "      <td>0</td>\n",
              "    </tr>\n",
              "  </tbody>\n",
              "</table>\n",
              "</div>"
            ],
            "text/plain": [
              "   Price  Score  ...  Pupils of 5-9 grades  Students\n",
              "0   1800    5.0  ...                     0         0\n",
              "1   2500    4.9  ...                     0         1\n",
              "2   1500    5.0  ...                     0         1\n",
              "3   1300    5.0  ...                     0         0\n",
              "4   1500    5.0  ...                     0         0\n",
              "\n",
              "[5 rows x 46 columns]"
            ]
          },
          "metadata": {},
          "execution_count": 98
        }
      ]
    },
    {
      "cell_type": "markdown",
      "metadata": {
        "id": "CQ0kKYXpQYEc"
      },
      "source": [
        "Building a model\n",
        "---"
      ]
    },
    {
      "cell_type": "code",
      "metadata": {
        "colab": {
          "base_uri": "https://localhost:8080/"
        },
        "id": "yHDzFpbDQfsI",
        "outputId": "bfeba6fb-a8ed-41fa-c687-d92141f72781"
      },
      "source": [
        "tutors_data_preprocessed.Score.value_counts()"
      ],
      "execution_count": null,
      "outputs": [
        {
          "output_type": "execute_result",
          "data": {
            "text/plain": [
              "4.3    64024\n",
              "5.0    16014\n",
              "4.9     3811\n",
              "4.8     2303\n",
              "4.7     1120\n",
              "4.6      632\n",
              "4.5      344\n",
              "4.4      119\n",
              "3.6       65\n",
              "4.1       50\n",
              "4.2       41\n",
              "3.9       31\n",
              "2.2       31\n",
              "3.8       18\n",
              "4.0       17\n",
              "2.9       17\n",
              "3.5       14\n",
              "3.4       14\n",
              "3.7       11\n",
              "3.3        7\n",
              "0.0        7\n",
              "3.2        3\n",
              "2.7        2\n",
              "2.5        2\n",
              "3.1        1\n",
              "2.8        1\n",
              "Name: Score, dtype: int64"
            ]
          },
          "metadata": {},
          "execution_count": 100
        }
      ]
    },
    {
      "cell_type": "markdown",
      "metadata": {
        "id": "n7L6qvUrQqf1"
      },
      "source": [
        "We can guess that a student or student's parents won't choose a tutor with score less than 4.0. After filtering by score we'll drop this feature to avoid target leakege. '**`Price`**' is the target so we'll drop it too for X."
      ]
    },
    {
      "cell_type": "code",
      "metadata": {
        "id": "HrRaXy8D8cdf"
      },
      "source": [
        "tutors_data_preprocessed = tutors_data_preprocessed[tutors_data_preprocessed['Score'] > 4.4]"
      ],
      "execution_count": null,
      "outputs": []
    },
    {
      "cell_type": "code",
      "metadata": {
        "colab": {
          "base_uri": "https://localhost:8080/",
          "height": 275
        },
        "id": "Iy_xrGVtYSk4",
        "outputId": "73dea327-8e98-4d90-a0fe-92eb306f4226"
      },
      "source": [
        "X = tutors_data_preprocessed[tutors_data_preprocessed['Score'] >= 4.0].drop(['Price', 'Score'], axis=1)\n",
        "X.head()"
      ],
      "execution_count": null,
      "outputs": [
        {
          "output_type": "execute_result",
          "data": {
            "text/html": [
              "<div>\n",
              "<style scoped>\n",
              "    .dataframe tbody tr th:only-of-type {\n",
              "        vertical-align: middle;\n",
              "    }\n",
              "\n",
              "    .dataframe tbody tr th {\n",
              "        vertical-align: top;\n",
              "    }\n",
              "\n",
              "    .dataframe thead th {\n",
              "        text-align: right;\n",
              "    }\n",
              "</style>\n",
              "<table border=\"1\" class=\"dataframe\">\n",
              "  <thead>\n",
              "    <tr style=\"text-align: right;\">\n",
              "      <th></th>\n",
              "      <th>Reviews_number</th>\n",
              "      <th>Experience</th>\n",
              "      <th>Status</th>\n",
              "      <th>Video_presentation</th>\n",
              "      <th>Photo</th>\n",
              "      <th>Art</th>\n",
              "      <th>Biology</th>\n",
              "      <th>Chemistry</th>\n",
              "      <th>Chinese</th>\n",
              "      <th>Economics</th>\n",
              "      <th>Elementary School</th>\n",
              "      <th>English</th>\n",
              "      <th>French</th>\n",
              "      <th>Geography</th>\n",
              "      <th>German</th>\n",
              "      <th>History</th>\n",
              "      <th>Informatics / Programming</th>\n",
              "      <th>Italian</th>\n",
              "      <th>Japanese</th>\n",
              "      <th>Literature</th>\n",
              "      <th>Mathematics</th>\n",
              "      <th>Music</th>\n",
              "      <th>Other</th>\n",
              "      <th>Physics</th>\n",
              "      <th>Preschooler activities</th>\n",
              "      <th>Rare foreign languages</th>\n",
              "      <th>Russian</th>\n",
              "      <th>Russian as a foreign language</th>\n",
              "      <th>Social studies</th>\n",
              "      <th>Spanish</th>\n",
              "      <th>Speech therapist</th>\n",
              "      <th>Sport and fitness</th>\n",
              "      <th>remotely</th>\n",
              "      <th>students place</th>\n",
              "      <th>tutors place</th>\n",
              "      <th>Adults</th>\n",
              "      <th>All</th>\n",
              "      <th>Children 1-3 years old</th>\n",
              "      <th>Children 4-5 years old</th>\n",
              "      <th>Children 6-7 years old</th>\n",
              "      <th>Pupils of 1-4 grades</th>\n",
              "      <th>Pupils of 10-11 grades</th>\n",
              "      <th>Pupils of 5-9 grades</th>\n",
              "      <th>Students</th>\n",
              "    </tr>\n",
              "  </thead>\n",
              "  <tbody>\n",
              "    <tr>\n",
              "      <th>0</th>\n",
              "      <td>26</td>\n",
              "      <td>21</td>\n",
              "      <td>4</td>\n",
              "      <td>0</td>\n",
              "      <td>0</td>\n",
              "      <td>0</td>\n",
              "      <td>0</td>\n",
              "      <td>0</td>\n",
              "      <td>0</td>\n",
              "      <td>0</td>\n",
              "      <td>0</td>\n",
              "      <td>0</td>\n",
              "      <td>0</td>\n",
              "      <td>0</td>\n",
              "      <td>1</td>\n",
              "      <td>0</td>\n",
              "      <td>0</td>\n",
              "      <td>0</td>\n",
              "      <td>0</td>\n",
              "      <td>0</td>\n",
              "      <td>0</td>\n",
              "      <td>0</td>\n",
              "      <td>0</td>\n",
              "      <td>0</td>\n",
              "      <td>0</td>\n",
              "      <td>0</td>\n",
              "      <td>0</td>\n",
              "      <td>0</td>\n",
              "      <td>0</td>\n",
              "      <td>1</td>\n",
              "      <td>0</td>\n",
              "      <td>0</td>\n",
              "      <td>1</td>\n",
              "      <td>0</td>\n",
              "      <td>0</td>\n",
              "      <td>0</td>\n",
              "      <td>1</td>\n",
              "      <td>0</td>\n",
              "      <td>0</td>\n",
              "      <td>0</td>\n",
              "      <td>0</td>\n",
              "      <td>0</td>\n",
              "      <td>0</td>\n",
              "      <td>0</td>\n",
              "    </tr>\n",
              "    <tr>\n",
              "      <th>1</th>\n",
              "      <td>41</td>\n",
              "      <td>29</td>\n",
              "      <td>4</td>\n",
              "      <td>0</td>\n",
              "      <td>1</td>\n",
              "      <td>0</td>\n",
              "      <td>0</td>\n",
              "      <td>0</td>\n",
              "      <td>0</td>\n",
              "      <td>0</td>\n",
              "      <td>0</td>\n",
              "      <td>0</td>\n",
              "      <td>0</td>\n",
              "      <td>0</td>\n",
              "      <td>0</td>\n",
              "      <td>0</td>\n",
              "      <td>0</td>\n",
              "      <td>0</td>\n",
              "      <td>0</td>\n",
              "      <td>0</td>\n",
              "      <td>1</td>\n",
              "      <td>0</td>\n",
              "      <td>0</td>\n",
              "      <td>0</td>\n",
              "      <td>0</td>\n",
              "      <td>0</td>\n",
              "      <td>0</td>\n",
              "      <td>0</td>\n",
              "      <td>0</td>\n",
              "      <td>0</td>\n",
              "      <td>0</td>\n",
              "      <td>0</td>\n",
              "      <td>1</td>\n",
              "      <td>0</td>\n",
              "      <td>1</td>\n",
              "      <td>0</td>\n",
              "      <td>0</td>\n",
              "      <td>0</td>\n",
              "      <td>0</td>\n",
              "      <td>0</td>\n",
              "      <td>0</td>\n",
              "      <td>1</td>\n",
              "      <td>0</td>\n",
              "      <td>1</td>\n",
              "    </tr>\n",
              "    <tr>\n",
              "      <th>2</th>\n",
              "      <td>14</td>\n",
              "      <td>11</td>\n",
              "      <td>4</td>\n",
              "      <td>1</td>\n",
              "      <td>1</td>\n",
              "      <td>0</td>\n",
              "      <td>0</td>\n",
              "      <td>0</td>\n",
              "      <td>0</td>\n",
              "      <td>0</td>\n",
              "      <td>0</td>\n",
              "      <td>1</td>\n",
              "      <td>0</td>\n",
              "      <td>0</td>\n",
              "      <td>0</td>\n",
              "      <td>0</td>\n",
              "      <td>0</td>\n",
              "      <td>0</td>\n",
              "      <td>0</td>\n",
              "      <td>0</td>\n",
              "      <td>0</td>\n",
              "      <td>0</td>\n",
              "      <td>0</td>\n",
              "      <td>0</td>\n",
              "      <td>0</td>\n",
              "      <td>0</td>\n",
              "      <td>0</td>\n",
              "      <td>0</td>\n",
              "      <td>0</td>\n",
              "      <td>0</td>\n",
              "      <td>0</td>\n",
              "      <td>0</td>\n",
              "      <td>1</td>\n",
              "      <td>1</td>\n",
              "      <td>1</td>\n",
              "      <td>1</td>\n",
              "      <td>0</td>\n",
              "      <td>0</td>\n",
              "      <td>0</td>\n",
              "      <td>1</td>\n",
              "      <td>0</td>\n",
              "      <td>1</td>\n",
              "      <td>0</td>\n",
              "      <td>1</td>\n",
              "    </tr>\n",
              "    <tr>\n",
              "      <th>3</th>\n",
              "      <td>41</td>\n",
              "      <td>39</td>\n",
              "      <td>4</td>\n",
              "      <td>0</td>\n",
              "      <td>0</td>\n",
              "      <td>0</td>\n",
              "      <td>0</td>\n",
              "      <td>1</td>\n",
              "      <td>0</td>\n",
              "      <td>0</td>\n",
              "      <td>0</td>\n",
              "      <td>0</td>\n",
              "      <td>0</td>\n",
              "      <td>0</td>\n",
              "      <td>0</td>\n",
              "      <td>0</td>\n",
              "      <td>0</td>\n",
              "      <td>0</td>\n",
              "      <td>0</td>\n",
              "      <td>0</td>\n",
              "      <td>0</td>\n",
              "      <td>0</td>\n",
              "      <td>0</td>\n",
              "      <td>0</td>\n",
              "      <td>0</td>\n",
              "      <td>0</td>\n",
              "      <td>0</td>\n",
              "      <td>0</td>\n",
              "      <td>0</td>\n",
              "      <td>0</td>\n",
              "      <td>0</td>\n",
              "      <td>0</td>\n",
              "      <td>1</td>\n",
              "      <td>0</td>\n",
              "      <td>0</td>\n",
              "      <td>0</td>\n",
              "      <td>1</td>\n",
              "      <td>0</td>\n",
              "      <td>0</td>\n",
              "      <td>0</td>\n",
              "      <td>0</td>\n",
              "      <td>0</td>\n",
              "      <td>0</td>\n",
              "      <td>0</td>\n",
              "    </tr>\n",
              "    <tr>\n",
              "      <th>4</th>\n",
              "      <td>35</td>\n",
              "      <td>9</td>\n",
              "      <td>2</td>\n",
              "      <td>0</td>\n",
              "      <td>1</td>\n",
              "      <td>0</td>\n",
              "      <td>0</td>\n",
              "      <td>0</td>\n",
              "      <td>0</td>\n",
              "      <td>0</td>\n",
              "      <td>0</td>\n",
              "      <td>0</td>\n",
              "      <td>0</td>\n",
              "      <td>0</td>\n",
              "      <td>0</td>\n",
              "      <td>0</td>\n",
              "      <td>0</td>\n",
              "      <td>0</td>\n",
              "      <td>0</td>\n",
              "      <td>0</td>\n",
              "      <td>1</td>\n",
              "      <td>0</td>\n",
              "      <td>0</td>\n",
              "      <td>0</td>\n",
              "      <td>0</td>\n",
              "      <td>0</td>\n",
              "      <td>0</td>\n",
              "      <td>0</td>\n",
              "      <td>0</td>\n",
              "      <td>0</td>\n",
              "      <td>0</td>\n",
              "      <td>0</td>\n",
              "      <td>1</td>\n",
              "      <td>1</td>\n",
              "      <td>1</td>\n",
              "      <td>0</td>\n",
              "      <td>0</td>\n",
              "      <td>0</td>\n",
              "      <td>0</td>\n",
              "      <td>0</td>\n",
              "      <td>0</td>\n",
              "      <td>1</td>\n",
              "      <td>0</td>\n",
              "      <td>0</td>\n",
              "    </tr>\n",
              "  </tbody>\n",
              "</table>\n",
              "</div>"
            ],
            "text/plain": [
              "   Reviews_number  Experience  ...  Pupils of 5-9 grades  Students\n",
              "0              26          21  ...                     0         0\n",
              "1              41          29  ...                     0         1\n",
              "2              14          11  ...                     0         1\n",
              "3              41          39  ...                     0         0\n",
              "4              35           9  ...                     0         0\n",
              "\n",
              "[5 rows x 44 columns]"
            ]
          },
          "metadata": {},
          "execution_count": 103
        }
      ]
    },
    {
      "cell_type": "code",
      "metadata": {
        "colab": {
          "base_uri": "https://localhost:8080/"
        },
        "id": "TdEqylacusnF",
        "outputId": "b6cbe805-5768-435e-af6a-3e39916f89a2"
      },
      "source": [
        "X.shape"
      ],
      "execution_count": null,
      "outputs": [
        {
          "output_type": "execute_result",
          "data": {
            "text/plain": [
              "(88475, 44)"
            ]
          },
          "metadata": {},
          "execution_count": 104
        }
      ]
    },
    {
      "cell_type": "code",
      "metadata": {
        "colab": {
          "base_uri": "https://localhost:8080/"
        },
        "id": "SH8T9nVHunny",
        "outputId": "fd25d57b-646b-40e5-a2e9-ba4045713dd1"
      },
      "source": [
        "y = tutors_data_preprocessed[tutors_data_preprocessed['Score'] >= 4.0].Price\n",
        "y.head()"
      ],
      "execution_count": null,
      "outputs": [
        {
          "output_type": "execute_result",
          "data": {
            "text/plain": [
              "0    1800\n",
              "1    2500\n",
              "2    1500\n",
              "3    1300\n",
              "4    1500\n",
              "Name: Price, dtype: int64"
            ]
          },
          "metadata": {},
          "execution_count": 105
        }
      ]
    },
    {
      "cell_type": "code",
      "metadata": {
        "colab": {
          "base_uri": "https://localhost:8080/"
        },
        "id": "I0D0itzaSPhV",
        "outputId": "53f2a09a-8af9-41e2-cd08-c35fb46a2975"
      },
      "source": [
        "y.shape"
      ],
      "execution_count": null,
      "outputs": [
        {
          "output_type": "execute_result",
          "data": {
            "text/plain": [
              "(88475,)"
            ]
          },
          "metadata": {},
          "execution_count": 106
        }
      ]
    },
    {
      "cell_type": "code",
      "metadata": {
        "id": "ju3oHJ4xwoa1"
      },
      "source": [
        "from sklearn.model_selection import train_test_split\n",
        "from sklearn.model_selection import cross_val_score\n",
        "from sklearn.metrics import mean_absolute_error\n",
        "from xgboost import XGBRegressor\n",
        "from sklearn.ensemble import RandomForestRegressor"
      ],
      "execution_count": null,
      "outputs": []
    },
    {
      "cell_type": "code",
      "metadata": {
        "id": "-XavJuS3wxoq"
      },
      "source": [
        "X_train, X_test, y_train, y_test = train_test_split(X, y, test_size=0.33, random_state=42)"
      ],
      "execution_count": null,
      "outputs": []
    },
    {
      "cell_type": "code",
      "metadata": {
        "colab": {
          "base_uri": "https://localhost:8080/"
        },
        "id": "2YGm_VyvxCRT",
        "outputId": "47cd1868-0b43-429d-80d6-36d24eacaad9"
      },
      "source": [
        "X_train.shape"
      ],
      "execution_count": null,
      "outputs": [
        {
          "output_type": "execute_result",
          "data": {
            "text/plain": [
              "(59278, 44)"
            ]
          },
          "metadata": {},
          "execution_count": 109
        }
      ]
    },
    {
      "cell_type": "code",
      "metadata": {
        "colab": {
          "base_uri": "https://localhost:8080/"
        },
        "id": "E4I40ihnxEsJ",
        "outputId": "ce496d8f-d246-4244-a8fe-6a14fed09a63"
      },
      "source": [
        "y_train.shape"
      ],
      "execution_count": null,
      "outputs": [
        {
          "output_type": "execute_result",
          "data": {
            "text/plain": [
              "(59278,)"
            ]
          },
          "metadata": {},
          "execution_count": 110
        }
      ]
    },
    {
      "cell_type": "markdown",
      "metadata": {
        "id": "gDlphz1PTgPu"
      },
      "source": [
        "XGBRegressor\n",
        "\n"
      ]
    },
    {
      "cell_type": "code",
      "metadata": {
        "colab": {
          "base_uri": "https://localhost:8080/"
        },
        "id": "mKReEmBtwWcn",
        "outputId": "88e8867b-24c6-4173-f589-541cdb6cbcbb"
      },
      "source": [
        "my_model_1 = XGBRegressor(n_estimators=500, learning_rate=0.05, n_jobs=4, max_depth=5)\n",
        "my_model_1.fit(X_train, y_train, early_stopping_rounds=5, eval_set=[(X_test, y_test)], verbose=False)"
      ],
      "execution_count": null,
      "outputs": [
        {
          "output_type": "stream",
          "name": "stdout",
          "text": [
            "[08:25:18] WARNING: /workspace/src/objective/regression_obj.cu:152: reg:linear is now deprecated in favor of reg:squarederror.\n"
          ]
        },
        {
          "output_type": "execute_result",
          "data": {
            "text/plain": [
              "XGBRegressor(base_score=0.5, booster='gbtree', colsample_bylevel=1,\n",
              "             colsample_bynode=1, colsample_bytree=1, gamma=0,\n",
              "             importance_type='gain', learning_rate=0.05, max_delta_step=0,\n",
              "             max_depth=5, min_child_weight=1, missing=None, n_estimators=500,\n",
              "             n_jobs=4, nthread=None, objective='reg:linear', random_state=0,\n",
              "             reg_alpha=0, reg_lambda=1, scale_pos_weight=1, seed=None,\n",
              "             silent=None, subsample=1, verbosity=1)"
            ]
          },
          "metadata": {},
          "execution_count": 114
        }
      ]
    },
    {
      "cell_type": "code",
      "metadata": {
        "id": "rPom_Dflw913",
        "colab": {
          "base_uri": "https://localhost:8080/"
        },
        "outputId": "ad664811-bd59-4e1f-c79f-30bd537cd465"
      },
      "source": [
        "preds_1 = my_model_1.predict(X_test)\n",
        "print(\"Mean Absolute Error: \" + str(mean_absolute_error(preds_1, y_test)))"
      ],
      "execution_count": null,
      "outputs": [
        {
          "output_type": "stream",
          "name": "stdout",
          "text": [
            "Mean Absolute Error: 317.067002856789\n"
          ]
        }
      ]
    },
    {
      "cell_type": "markdown",
      "metadata": {
        "id": "s9BlpeIMTse8"
      },
      "source": [
        "RandomForestRegressor"
      ]
    },
    {
      "cell_type": "code",
      "metadata": {
        "id": "Mn4v8cIW1smO",
        "colab": {
          "base_uri": "https://localhost:8080/"
        },
        "outputId": "df5a5afa-69fb-4eae-df9e-d9b42f5fa1da"
      },
      "source": [
        "my_model_2 = RandomForestRegressor(max_depth=10, max_leaf_nodes=100, n_jobs=4)\n",
        "my_model_2.fit(X_train, y_train)"
      ],
      "execution_count": null,
      "outputs": [
        {
          "output_type": "execute_result",
          "data": {
            "text/plain": [
              "RandomForestRegressor(bootstrap=True, ccp_alpha=0.0, criterion='mse',\n",
              "                      max_depth=10, max_features='auto', max_leaf_nodes=100,\n",
              "                      max_samples=None, min_impurity_decrease=0.0,\n",
              "                      min_impurity_split=None, min_samples_leaf=1,\n",
              "                      min_samples_split=2, min_weight_fraction_leaf=0.0,\n",
              "                      n_estimators=100, n_jobs=4, oob_score=False,\n",
              "                      random_state=None, verbose=0, warm_start=False)"
            ]
          },
          "metadata": {},
          "execution_count": 117
        }
      ]
    },
    {
      "cell_type": "code",
      "metadata": {
        "colab": {
          "base_uri": "https://localhost:8080/"
        },
        "id": "4uE0vgNc2H20",
        "outputId": "2f1dce66-6935-4952-e26b-f93aab4649f3"
      },
      "source": [
        "preds_2 = my_model_2.predict(X_test)\n",
        "print(\"Mean Absolute Error: \" + str(mean_absolute_error(preds_2, y_test)))"
      ],
      "execution_count": null,
      "outputs": [
        {
          "output_type": "stream",
          "name": "stdout",
          "text": [
            "Mean Absolute Error: 320.7012986968738\n"
          ]
        }
      ]
    },
    {
      "cell_type": "markdown",
      "metadata": {
        "id": "KV3M_yTeT3xN"
      },
      "source": [
        "CrossValidation"
      ]
    },
    {
      "cell_type": "code",
      "metadata": {
        "id": "uQwUGdXfT3gR"
      },
      "source": [
        "scores = -1 * cross_val_score(my_model_1, X, y, cv=5, scoring='neg_mean_absolute_error')"
      ],
      "execution_count": null,
      "outputs": []
    },
    {
      "cell_type": "code",
      "metadata": {
        "colab": {
          "base_uri": "https://localhost:8080/"
        },
        "id": "bab70v1GVVpH",
        "outputId": "ca6c0a5c-7619-4a1a-ec8e-650e03dfabbb"
      },
      "source": [
        "print(scores)\n",
        "print(\"Average MAE score (across experiments):\" + str(scores.mean()))"
      ],
      "execution_count": null,
      "outputs": [
        {
          "output_type": "stream",
          "name": "stdout",
          "text": [
            "[381.83406112 315.13617557 303.06351752 312.79988058 326.9586719 ]\n",
            "Average MAE score (across experiments):327.95846133527186\n"
          ]
        }
      ]
    },
    {
      "cell_type": "markdown",
      "metadata": {
        "id": "vvOKhvgYy9Mm"
      },
      "source": [
        "Price estimations\n",
        "---"
      ]
    },
    {
      "cell_type": "code",
      "metadata": {
        "id": "exxxjZuGyUn3"
      },
      "source": [
        "data_for_predictions = pd.read_excel('data_for_predictions.xlsx', index_col=0)"
      ],
      "execution_count": null,
      "outputs": []
    },
    {
      "cell_type": "markdown",
      "metadata": {
        "id": "YAW84v-sVuhq"
      },
      "source": [
        "Here we have tutor with 7 years of expirience, working as a university professor, who wants to teach independently pupils and students math, informatics/programming and physics. The tutor has just come to the site '[repetit.ru](https://repetit.ru)' and don't have any reviews. He just has photo in his profile, maybe some descriptions and doesn't want to create a video. The tutor prefers to work remotely"
      ]
    },
    {
      "cell_type": "code",
      "metadata": {
        "colab": {
          "base_uri": "https://localhost:8080/",
          "height": 151
        },
        "id": "hsElgJRc2e3o",
        "outputId": "a3f0d076-4d88-415e-b694-481a2844f81f"
      },
      "source": [
        "data_for_predictions"
      ],
      "execution_count": null,
      "outputs": [
        {
          "output_type": "execute_result",
          "data": {
            "text/html": [
              "<div>\n",
              "<style scoped>\n",
              "    .dataframe tbody tr th:only-of-type {\n",
              "        vertical-align: middle;\n",
              "    }\n",
              "\n",
              "    .dataframe tbody tr th {\n",
              "        vertical-align: top;\n",
              "    }\n",
              "\n",
              "    .dataframe thead th {\n",
              "        text-align: right;\n",
              "    }\n",
              "</style>\n",
              "<table border=\"1\" class=\"dataframe\">\n",
              "  <thead>\n",
              "    <tr style=\"text-align: right;\">\n",
              "      <th></th>\n",
              "      <th>Reviews_number</th>\n",
              "      <th>Experience</th>\n",
              "      <th>Status</th>\n",
              "      <th>Video_presentation</th>\n",
              "      <th>Photo</th>\n",
              "      <th>Art</th>\n",
              "      <th>Biology</th>\n",
              "      <th>Chemistry</th>\n",
              "      <th>Chinese</th>\n",
              "      <th>Economics</th>\n",
              "      <th>Elementary School</th>\n",
              "      <th>English</th>\n",
              "      <th>French</th>\n",
              "      <th>Geography</th>\n",
              "      <th>German</th>\n",
              "      <th>History</th>\n",
              "      <th>Informatics / Programming</th>\n",
              "      <th>Italian</th>\n",
              "      <th>Japanese</th>\n",
              "      <th>Literature</th>\n",
              "      <th>Mathematics</th>\n",
              "      <th>Music</th>\n",
              "      <th>Other</th>\n",
              "      <th>Physics</th>\n",
              "      <th>Preschooler activities</th>\n",
              "      <th>Rare foreign languages</th>\n",
              "      <th>Russian</th>\n",
              "      <th>Russian as a foreign language</th>\n",
              "      <th>Social studies</th>\n",
              "      <th>Spanish</th>\n",
              "      <th>Speech therapist</th>\n",
              "      <th>Sport and fitness</th>\n",
              "      <th>remotely</th>\n",
              "      <th>students place</th>\n",
              "      <th>tutors place</th>\n",
              "      <th>Adults</th>\n",
              "      <th>All</th>\n",
              "      <th>Children 1-3 years old</th>\n",
              "      <th>Children 4-5 years old</th>\n",
              "      <th>Children 6-7 years old</th>\n",
              "      <th>Pupils of 1-4 grades</th>\n",
              "      <th>Pupils of 10-11 grades</th>\n",
              "      <th>Pupils of 5-9 grades</th>\n",
              "      <th>Students</th>\n",
              "    </tr>\n",
              "  </thead>\n",
              "  <tbody>\n",
              "    <tr>\n",
              "      <th>0</th>\n",
              "      <td>0</td>\n",
              "      <td>7</td>\n",
              "      <td>5</td>\n",
              "      <td>0</td>\n",
              "      <td>1</td>\n",
              "      <td>0</td>\n",
              "      <td>0</td>\n",
              "      <td>0</td>\n",
              "      <td>0</td>\n",
              "      <td>0</td>\n",
              "      <td>0</td>\n",
              "      <td>0</td>\n",
              "      <td>0</td>\n",
              "      <td>0</td>\n",
              "      <td>0</td>\n",
              "      <td>0</td>\n",
              "      <td>1</td>\n",
              "      <td>0</td>\n",
              "      <td>0</td>\n",
              "      <td>0</td>\n",
              "      <td>1</td>\n",
              "      <td>0</td>\n",
              "      <td>0</td>\n",
              "      <td>1</td>\n",
              "      <td>0</td>\n",
              "      <td>0</td>\n",
              "      <td>0</td>\n",
              "      <td>0</td>\n",
              "      <td>0</td>\n",
              "      <td>0</td>\n",
              "      <td>0</td>\n",
              "      <td>0</td>\n",
              "      <td>1</td>\n",
              "      <td>0</td>\n",
              "      <td>0</td>\n",
              "      <td>0</td>\n",
              "      <td>0</td>\n",
              "      <td>0</td>\n",
              "      <td>0</td>\n",
              "      <td>0</td>\n",
              "      <td>1</td>\n",
              "      <td>1</td>\n",
              "      <td>1</td>\n",
              "      <td>1</td>\n",
              "    </tr>\n",
              "  </tbody>\n",
              "</table>\n",
              "</div>"
            ],
            "text/plain": [
              "   Reviews_number  Experience  ...  Pupils of 5-9 grades  Students\n",
              "0               0           7  ...                     1         1\n",
              "\n",
              "[1 rows x 44 columns]"
            ]
          },
          "metadata": {},
          "execution_count": 140
        }
      ]
    },
    {
      "cell_type": "code",
      "metadata": {
        "colab": {
          "base_uri": "https://localhost:8080/"
        },
        "id": "wEN-JCny2gXQ",
        "outputId": "cb615b55-624e-4043-f3b6-d4a25a06b000"
      },
      "source": [
        "pred_price = my_model_1.predict(data_for_predictions)\n",
        "pred_price"
      ],
      "execution_count": null,
      "outputs": [
        {
          "output_type": "execute_result",
          "data": {
            "text/plain": [
              "array([995.18066], dtype=float32)"
            ]
          },
          "metadata": {},
          "execution_count": 142
        }
      ]
    },
    {
      "cell_type": "markdown",
      "metadata": {
        "id": "rwDaYuSyZaGw"
      },
      "source": [
        "Thus the start price for the tutor is  approximately 1000 rub per hour. Taking into consideration that the MAE is approximately 300 rub we can apply 1300 rub per hour in the end"
      ]
    }
  ]
}