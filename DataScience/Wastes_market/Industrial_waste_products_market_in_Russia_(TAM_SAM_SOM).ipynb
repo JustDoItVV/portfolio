{
  "nbformat": 4,
  "nbformat_minor": 0,
  "metadata": {
    "colab": {
      "name": "Industrial waste products market in Russia (TAM-SAM-SOM)",
      "provenance": [],
      "collapsed_sections": [],
      "mount_file_id": "1iybL9hkBPDzv0ZUzo0QGsdoFvJxrisuZ",
      "authorship_tag": "ABX9TyNFoL6SSKuHlNzCQqxkslir"
    },
    "kernelspec": {
      "name": "python3",
      "display_name": "Python 3"
    },
    "language_info": {
      "name": "python"
    }
  },
  "cells": [
    {
      "cell_type": "markdown",
      "metadata": {
        "id": "2SJ22IyWpOiX"
      },
      "source": [
        "Data obtaining\n",
        "---\n",
        "---"
      ]
    },
    {
      "cell_type": "code",
      "metadata": {
        "colab": {
          "base_uri": "https://localhost:8080/"
        },
        "id": "Vr5cM6qeAaZj",
        "outputId": "99db2a60-e5c1-43ab-bbb4-e927e182f8dd"
      },
      "source": [
        "pip install tqdm"
      ],
      "execution_count": null,
      "outputs": [
        {
          "output_type": "stream",
          "name": "stdout",
          "text": [
            "Requirement already satisfied: tqdm in /usr/local/lib/python3.7/dist-packages (4.62.3)\n"
          ]
        }
      ]
    },
    {
      "cell_type": "code",
      "metadata": {
        "id": "N9IVNpWNx1CY"
      },
      "source": [
        "import requests\n",
        "from bs4 import BeautifulSoup\n",
        "import pandas as pd\n",
        "import re\n",
        "import numpy as np\n",
        "from multiprocessing import Pool\n",
        "import tqdm\n",
        "from datetime import date"
      ],
      "execution_count": null,
      "outputs": []
    },
    {
      "cell_type": "markdown",
      "metadata": {
        "id": "Q-Xnh44S7j7A"
      },
      "source": [
        "Scraping one page"
      ]
    },
    {
      "cell_type": "code",
      "metadata": {
        "id": "hShcFqJV7VBE"
      },
      "source": [
        "def parse_one_page(i):\n",
        "    arr = []\n",
        "    url_search_page = 'https://re.actor/rossiya?sort=rating%2Cdesc%2Cplaced%2Cdesc&page='\n",
        "    soup_search_page = BeautifulSoup(requests.get(url_search_page + str(i)).text, 'lxml')\n",
        "    items = soup_search_page.find('div', {'class': 'mp-main-page__order-items'})\n",
        "    item = items.find_next('div', {'class': 'mp-main-page__order-item'})\n",
        "    while item:\n",
        "        arr.append([np.nan] * 8)\n",
        "\n",
        "        try:\n",
        "            # Status\n",
        "            arr[-1][0] = item.find('div', {'class': 'mp-order-label mp-order-item__label'}).get_text()\n",
        "        except Exception:\n",
        "            pass\n",
        "        \n",
        "        # Publish date\n",
        "        arr[-1][1] = item.find('div', {'class': 'mp-order-item__date'}).get_text()\n",
        "\n",
        "        # Title\n",
        "        arr[-1][2] = item.find('div', {'class': 'mp-order-item__title'}).get_text()\n",
        "\n",
        "        # Price\n",
        "        s = item.find('div', {'class': 'mp-order-item__meta'}).find('div', {'class': 'mp-order-item__price'}).get_text().split(' ')\n",
        "        if s[0] == 'Бесплатно':\n",
        "            arr[-1][3] = 0\n",
        "            arr[-1][4] = '₽'\n",
        "        else:\n",
        "            arr[-1][3] = float(s[0])\n",
        "            arr[-1][4] = s[1]\n",
        "\n",
        "        # Amount\n",
        "        s = item.find('div', {'class': 'mp-order-item__meta'}).find('div', {'class': 'mp-order-item__amount'}).get_text().strip().split()\n",
        "        arr[-1][5] = float(s[0])\n",
        "        arr[-1][6] = s[1]\n",
        "\n",
        "        # Type\n",
        "        arr[-1][7] = item.find('div', {'class': 'mp-order-item__tag'}).find('span').get_text()             \n",
        "\n",
        "        try:\n",
        "            item = item.find_next('div', {'class': 'mp-main-page__order-item'})\n",
        "        except Exception:\n",
        "            item = False        \n",
        "    return arr"
      ],
      "execution_count": null,
      "outputs": []
    },
    {
      "cell_type": "markdown",
      "metadata": {
        "id": "iqvscG3M8AYJ"
      },
      "source": [
        "Main parser with multiprocessing"
      ]
    },
    {
      "cell_type": "code",
      "metadata": {
        "id": "id4jtKAM7xSA"
      },
      "source": [
        "def parse_search(url_search, max_search_pages):\n",
        "    pages = [i for i in range(0, max_search_pages)]\n",
        "    pool = Pool(20)\n",
        "\n",
        "    buff = []\n",
        "    for result in tqdm.tqdm(pool.imap_unordered(parse_one_page, pages), total=len(pages)):\n",
        "        buff.append(result)\n",
        "    print()\n",
        "    \n",
        "    pool.close()\n",
        "    pool.join()\n",
        "    \n",
        "    print('Web Scraping is completed')\n",
        "    return buff"
      ],
      "execution_count": null,
      "outputs": []
    },
    {
      "cell_type": "markdown",
      "metadata": {
        "id": "qv2shjpgW2ko"
      },
      "source": [
        "Web Scraping process"
      ]
    },
    {
      "cell_type": "code",
      "metadata": {
        "colab": {
          "base_uri": "https://localhost:8080/"
        },
        "id": "rkHAbP7p7nKt",
        "outputId": "d36a4aca-78e9-4e34-da64-4bec9ddb827b"
      },
      "source": [
        "url_search = 'https://re.actor/rossiya?sort=rating%2Cdesc%2Cplaced%2Cdesc&page='\n",
        "r_search = requests.get(url_search + '0')\n",
        "soup_search = BeautifulSoup(r_search.text, 'lxml')\n",
        "s = soup_search.find('script').get_text()\n",
        "s = re.findall(r'totalPages\":\\d+', s)\n",
        "max_search_pages = int(str(s[0]).replace('totalPages\":', ''))\n",
        "wastes_reactor_raw = parse_search(url_search, int(max_search_pages))"
      ],
      "execution_count": null,
      "outputs": [
        {
          "output_type": "stream",
          "name": "stderr",
          "text": [
            "100%|██████████| 539/539 [00:38<00:00, 14.15it/s]\n"
          ]
        },
        {
          "output_type": "stream",
          "name": "stdout",
          "text": [
            "\n",
            "Web Scraping is completed\n"
          ]
        }
      ]
    },
    {
      "cell_type": "markdown",
      "metadata": {
        "id": "vn2G3VbtWzsU"
      },
      "source": [
        "Processing obtained data"
      ]
    },
    {
      "cell_type": "code",
      "metadata": {
        "id": "wtoeZt0GHwcJ",
        "colab": {
          "base_uri": "https://localhost:8080/",
          "height": 419
        },
        "outputId": "411ada3a-aa17-485b-e343-7235f1ef2aa5"
      },
      "source": [
        "flat_list = [item for sublist in wastes_reactor_raw for item in sublist]\n",
        "wastes_reactor_list = np.array(flat_list)\n",
        "columns = ['Status',\n",
        "           'Date',\n",
        "           'Title',\n",
        "           'Price',\n",
        "           'Price_units',\n",
        "           'Amount',\n",
        "           'Amount_units',\n",
        "           'Waste_type']\n",
        "wastes_reactor = pd.DataFrame(wastes_reactor_list, columns=columns)\n",
        "wastes_reactor['Status'] = wastes_reactor['Status'].replace('nan', 'Открыто')\n",
        "months = {'января': '01',\n",
        "          'февраля': '02',\n",
        "          'марта': '03',\n",
        "          'апреля': '04',\n",
        "          'мая': '05',\n",
        "          'июня': '06',\n",
        "          'июля': '07',\n",
        "          'августа': '08',\n",
        "          'сентября': '09',\n",
        "          'октября': '10',\n",
        "          'ноября': '11',\n",
        "          'декабря': '12'}\n",
        "for m in months:\n",
        "    wastes_reactor['Date'] = wastes_reactor['Date'].apply(lambda x: x.replace(m, months[m]))\n",
        "wastes_reactor['Date'] = pd.to_datetime(wastes_reactor['Date'], format='%d %m %Y')\n",
        "wastes_reactor"
      ],
      "execution_count": null,
      "outputs": [
        {
          "output_type": "execute_result",
          "data": {
            "text/html": [
              "<div>\n",
              "<style scoped>\n",
              "    .dataframe tbody tr th:only-of-type {\n",
              "        vertical-align: middle;\n",
              "    }\n",
              "\n",
              "    .dataframe tbody tr th {\n",
              "        vertical-align: top;\n",
              "    }\n",
              "\n",
              "    .dataframe thead th {\n",
              "        text-align: right;\n",
              "    }\n",
              "</style>\n",
              "<table border=\"1\" class=\"dataframe\">\n",
              "  <thead>\n",
              "    <tr style=\"text-align: right;\">\n",
              "      <th></th>\n",
              "      <th>Status</th>\n",
              "      <th>Date</th>\n",
              "      <th>Title</th>\n",
              "      <th>Price</th>\n",
              "      <th>Price_units</th>\n",
              "      <th>Amount</th>\n",
              "      <th>Amount_units</th>\n",
              "      <th>Waste_type</th>\n",
              "    </tr>\n",
              "  </thead>\n",
              "  <tbody>\n",
              "    <tr>\n",
              "      <th>0</th>\n",
              "      <td>Открыто</td>\n",
              "      <td>2021-10-22</td>\n",
              "      <td>Реализуем Пеногаситель Kurita FC-8990</td>\n",
              "      <td>350000.0</td>\n",
              "      <td>₽/т.</td>\n",
              "      <td>3.0</td>\n",
              "      <td>т.</td>\n",
              "      <td>Остальное</td>\n",
              "    </tr>\n",
              "    <tr>\n",
              "      <th>1</th>\n",
              "      <td>Открыто</td>\n",
              "      <td>2021-10-22</td>\n",
              "      <td>Реализуем Масло-растворитель Изолюкс-1М ТУ 19....</td>\n",
              "      <td>50000.0</td>\n",
              "      <td>₽/т.</td>\n",
              "      <td>2.0</td>\n",
              "      <td>т.</td>\n",
              "      <td>Остальное</td>\n",
              "    </tr>\n",
              "    <tr>\n",
              "      <th>2</th>\n",
              "      <td>Открыто</td>\n",
              "      <td>2021-10-22</td>\n",
              "      <td>Реализуем металлолом</td>\n",
              "      <td>25000.0</td>\n",
              "      <td>₽/т.</td>\n",
              "      <td>40.0</td>\n",
              "      <td>т.</td>\n",
              "      <td>Металлы</td>\n",
              "    </tr>\n",
              "    <tr>\n",
              "      <th>3</th>\n",
              "      <td>Открыто</td>\n",
              "      <td>2021-10-22</td>\n",
              "      <td>Лом стальной (тара из черных металлов)</td>\n",
              "      <td>10065.6</td>\n",
              "      <td>₽/т.</td>\n",
              "      <td>100.0</td>\n",
              "      <td>т.</td>\n",
              "      <td>Металлы</td>\n",
              "    </tr>\n",
              "    <tr>\n",
              "      <th>4</th>\n",
              "      <td>Открыто</td>\n",
              "      <td>2021-10-22</td>\n",
              "      <td>Продаём тонкий картон 6Б типографский</td>\n",
              "      <td>17000.0</td>\n",
              "      <td>₽/т.</td>\n",
              "      <td>20.0</td>\n",
              "      <td>т.</td>\n",
              "      <td>Макулатура</td>\n",
              "    </tr>\n",
              "    <tr>\n",
              "      <th>...</th>\n",
              "      <td>...</td>\n",
              "      <td>...</td>\n",
              "      <td>...</td>\n",
              "      <td>...</td>\n",
              "      <td>...</td>\n",
              "      <td>...</td>\n",
              "      <td>...</td>\n",
              "      <td>...</td>\n",
              "    </tr>\n",
              "    <tr>\n",
              "      <th>10773</th>\n",
              "      <td>Открыто</td>\n",
              "      <td>2019-04-22</td>\n",
              "      <td>Утилизация ламп дневного света (люминесцентные...</td>\n",
              "      <td>17.0</td>\n",
              "      <td>₽/шт.</td>\n",
              "      <td>500.0</td>\n",
              "      <td>шт.</td>\n",
              "      <td>Электроника</td>\n",
              "    </tr>\n",
              "    <tr>\n",
              "      <th>10774</th>\n",
              "      <td>Открыто</td>\n",
              "      <td>2019-04-22</td>\n",
              "      <td>Принимаем б/у пластиковые корзинки</td>\n",
              "      <td>15.0</td>\n",
              "      <td>₽/кг.</td>\n",
              "      <td>30000.0</td>\n",
              "      <td>кг.</td>\n",
              "      <td>Пластик</td>\n",
              "    </tr>\n",
              "    <tr>\n",
              "      <th>10775</th>\n",
              "      <td>Открыто</td>\n",
              "      <td>2019-04-22</td>\n",
              "      <td>Закупаем ПНД канистру и бочки прессованные и н...</td>\n",
              "      <td>35.0</td>\n",
              "      <td>₽/кг.</td>\n",
              "      <td>1000.0</td>\n",
              "      <td>кг.</td>\n",
              "      <td>Пластик</td>\n",
              "    </tr>\n",
              "    <tr>\n",
              "      <th>10776</th>\n",
              "      <td>Открыто</td>\n",
              "      <td>2019-04-22</td>\n",
              "      <td>Закупаем отходы ПНД и ПВД</td>\n",
              "      <td>30.0</td>\n",
              "      <td>₽/кг.</td>\n",
              "      <td>10000.0</td>\n",
              "      <td>кг.</td>\n",
              "      <td>Пластик</td>\n",
              "    </tr>\n",
              "    <tr>\n",
              "      <th>10777</th>\n",
              "      <td>Открыто</td>\n",
              "      <td>2019-04-19</td>\n",
              "      <td>Куплю макулатуру оптом</td>\n",
              "      <td>14000.0</td>\n",
              "      <td>₽/т.</td>\n",
              "      <td>1000.0</td>\n",
              "      <td>т.</td>\n",
              "      <td>Макулатура</td>\n",
              "    </tr>\n",
              "  </tbody>\n",
              "</table>\n",
              "<p>10778 rows × 8 columns</p>\n",
              "</div>"
            ],
            "text/plain": [
              "        Status       Date  ... Amount_units   Waste_type\n",
              "0      Открыто 2021-10-22  ...           т.    Остальное\n",
              "1      Открыто 2021-10-22  ...           т.    Остальное\n",
              "2      Открыто 2021-10-22  ...           т.      Металлы\n",
              "3      Открыто 2021-10-22  ...           т.      Металлы\n",
              "4      Открыто 2021-10-22  ...           т.   Макулатура\n",
              "...        ...        ...  ...          ...          ...\n",
              "10773  Открыто 2019-04-22  ...          шт.  Электроника\n",
              "10774  Открыто 2019-04-22  ...          кг.      Пластик\n",
              "10775  Открыто 2019-04-22  ...          кг.      Пластик\n",
              "10776  Открыто 2019-04-22  ...          кг.      Пластик\n",
              "10777  Открыто 2019-04-19  ...           т.   Макулатура\n",
              "\n",
              "[10778 rows x 8 columns]"
            ]
          },
          "metadata": {},
          "execution_count": 6
        }
      ]
    },
    {
      "cell_type": "markdown",
      "metadata": {
        "id": "NhN1upEIXM5v"
      },
      "source": [
        "Save to csv and excel"
      ]
    },
    {
      "cell_type": "code",
      "metadata": {
        "id": "wVykm8No8JIf"
      },
      "source": [
        "today = date.today()\n",
        "d1 = today.strftime(\"%Y_%m_%d\")\n",
        "wastes_reactor.to_csv('wastes_reactor_' + d1 + '.csv', index=False, encoding='utf-8-sig')\n",
        "wastes_reactor.to_excel('wastes_reactor_' + d1 + '.xlsx', index=False, encoding='utf-8-sig')"
      ],
      "execution_count": null,
      "outputs": []
    },
    {
      "cell_type": "markdown",
      "metadata": {
        "id": "yXjsF03xdmum"
      },
      "source": [
        "Estimation of industrial waste products market in Russia\n",
        "---\n",
        "---\n",
        "\n",
        "The estimation was carried out using Tableau Public 2021 within the framework of the project \"Экологически-рациональная альтернатива\" (Environmentally sustainable alternative). The project is a web marketplace for the sale of industrial waste products with integration of state personal account of a natural resource user. The project aims to simplify the sale of waste products from manufacturers, the resources search for waste disposers and the interaction of both sides with government authorities. It is assumed that the project will increase the number of recycled waste and reduce the number of landfills as part of the implementation of the national project Ecology."
      ]
    },
    {
      "cell_type": "markdown",
      "metadata": {
        "id": "emMYue9HirQD"
      },
      "source": [
        "The market estimation was performed with bottom-up assessment (TAM, SAM, SOM) based on the data from the site [Реактор](https://re.actor/rossiya). It's one of three biggest waste marketplaces in Russia. Two others are [ВторПлюс](https://vtorplus.com/) and [Vtorpoisk](https://vtorpoisk.ru/).\n",
        "\n",
        "Estimated market shares of TAM:\n",
        "   * Реактор – 3 %\n",
        "   * ВторПоиск – 1 %\n",
        "   * Vtorpoisk – 0.2 %\n",
        "\n",
        "Market shares of SAM are 71:24:5.\n",
        "It's accepted 4360 sale announcements for TAM in 2020. \n",
        "\n",
        "The amount of open announcements per year:\n",
        "   * Реактор – 4229 (2020)\n",
        "   * ВторПоиск – 1390 (2021)\n",
        "   * Vtorpoisk – 252 (2020)\n",
        "\n",
        "The market estimations are followings:\n",
        "\n",
        "*   TAM - 41 billion rub (2020)\n",
        "*   SAM - 660 million rub (468 million rub for Реактор; median trade is 3.9 million rub; 120 trades per year)\n",
        "*   SOM - 165 million rub (all Russia, expected market share is 25 %)"
      ]
    },
    {
      "cell_type": "markdown",
      "metadata": {
        "id": "wjv-FN12l80c"
      },
      "source": [
        "Link to the Tableau dashboard with the analysis tables and plot: https://public.tableau.com/views/_16350699888960/sheet6?:language=en-US&publish=yes&:display_count=n&:origin=viz_share_link"
      ]
    },
    {
      "cell_type": "code",
      "metadata": {
        "id": "blht2qc2UWI0",
        "colab": {
          "base_uri": "https://localhost:8080/",
          "height": 1000
        },
        "outputId": "dfa0ef45-bf09-4bba-ecee-bffe0ec433aa"
      },
      "source": [
        "%%HTML\n",
        "<div class='tableauPlaceholder' id='viz1635081811712' style='position: relative'><noscript><a href='#'><img alt=' ' src='https:&#47;&#47;public.tableau.com&#47;static&#47;images&#47;_1&#47;_16350699888960&#47;sheet6&#47;1_rss.png' style='border: none' /></a></noscript><object class='tableauViz'  style='display:none;'><param name='host_url' value='https%3A%2F%2Fpublic.tableau.com%2F' /> <param name='embed_code_version' value='3' /> <param name='site_root' value='' /><param name='name' value='_16350699888960&#47;sheet6' /><param name='tabs' value='yes' /><param name='toolbar' value='yes' /><param name='static_image' value='https:&#47;&#47;public.tableau.com&#47;static&#47;images&#47;_1&#47;_16350699888960&#47;sheet6&#47;1.png' /> <param name='animate_transition' value='yes' /><param name='display_static_image' value='yes' /><param name='display_spinner' value='yes' /><param name='display_overlay' value='yes' /><param name='display_count' value='yes' /><param name='language' value='en-US' /><param name='filter' value='publish=yes' /></object></div>                <script type='text/javascript'>                    var divElement = document.getElementById('viz1635081811712');                    var vizElement = divElement.getElementsByTagName('object')[0];                    vizElement.style.width='100%';vizElement.style.height=(divElement.offsetWidth*0.75)+'px';                    var scriptElement = document.createElement('script');                    scriptElement.src = 'https://public.tableau.com/javascripts/api/viz_v1.js';                    vizElement.parentNode.insertBefore(scriptElement, vizElement);                </script>"
      ],
      "execution_count": null,
      "outputs": [
        {
          "output_type": "display_data",
          "data": {
            "text/html": [
              "<div class='tableauPlaceholder' id='viz1635081811712' style='position: relative'><noscript><a href='#'><img alt=' ' src='https:&#47;&#47;public.tableau.com&#47;static&#47;images&#47;_1&#47;_16350699888960&#47;sheet6&#47;1_rss.png' style='border: none' /></a></noscript><object class='tableauViz'  style='display:none;'><param name='host_url' value='https%3A%2F%2Fpublic.tableau.com%2F' /> <param name='embed_code_version' value='3' /> <param name='site_root' value='' /><param name='name' value='_16350699888960&#47;sheet6' /><param name='tabs' value='yes' /><param name='toolbar' value='yes' /><param name='static_image' value='https:&#47;&#47;public.tableau.com&#47;static&#47;images&#47;_1&#47;_16350699888960&#47;sheet6&#47;1.png' /> <param name='animate_transition' value='yes' /><param name='display_static_image' value='yes' /><param name='display_spinner' value='yes' /><param name='display_overlay' value='yes' /><param name='display_count' value='yes' /><param name='language' value='en-US' /><param name='filter' value='publish=yes' /></object></div>                <script type='text/javascript'>                    var divElement = document.getElementById('viz1635081811712');                    var vizElement = divElement.getElementsByTagName('object')[0];                    vizElement.style.width='100%';vizElement.style.height=(divElement.offsetWidth*0.75)+'px';                    var scriptElement = document.createElement('script');                    scriptElement.src = 'https://public.tableau.com/javascripts/api/viz_v1.js';                    vizElement.parentNode.insertBefore(scriptElement, vizElement);                </script>"
            ],
            "text/plain": [
              "<IPython.core.display.HTML object>"
            ]
          },
          "metadata": {}
        }
      ]
    },
    {
      "cell_type": "code",
      "metadata": {
        "id": "6J3vLHFteL6H"
      },
      "source": [
        ""
      ],
      "execution_count": null,
      "outputs": []
    }
  ]
}