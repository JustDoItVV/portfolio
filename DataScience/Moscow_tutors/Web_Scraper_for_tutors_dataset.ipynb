{
  "nbformat": 4,
  "nbformat_minor": 0,
  "metadata": {
    "colab": {
      "name": "Web Scraper for tutors dataset",
      "provenance": [],
      "collapsed_sections": [],
      "mount_file_id": "1iybL9hkBPDzv0ZUzo0QGsdoFvJxrisuZ",
      "authorship_tag": "ABX9TyMK+ktUcz+X20/ozfmziqt+"
    },
    "kernelspec": {
      "name": "python3",
      "display_name": "Python 3"
    },
    "language_info": {
      "name": "python"
    }
  },
  "cells": [
    {
      "cell_type": "markdown",
      "metadata": {
        "id": "2SJ22IyWpOiX"
      },
      "source": [
        "Web Scraping\n",
        "---\n",
        "Site: repetit.ru\n",
        "\n",
        "City: Moscow"
      ]
    },
    {
      "cell_type": "code",
      "metadata": {
        "colab": {
          "base_uri": "https://localhost:8080/"
        },
        "id": "2_-qGo6D2U3l",
        "outputId": "09545cb0-5ab0-4993-ccdd-78189fea5800"
      },
      "source": [
        "pip install transliterate"
      ],
      "execution_count": null,
      "outputs": [
        {
          "output_type": "stream",
          "name": "stdout",
          "text": [
            "Requirement already satisfied: transliterate in /usr/local/lib/python3.7/dist-packages (1.10.2)\n",
            "Requirement already satisfied: six>=1.1.0 in /usr/local/lib/python3.7/dist-packages (from transliterate) (1.15.0)\n"
          ]
        }
      ]
    },
    {
      "cell_type": "code",
      "metadata": {
        "colab": {
          "base_uri": "https://localhost:8080/"
        },
        "id": "Vr5cM6qeAaZj",
        "outputId": "be53d9bf-508e-4f1c-f4e0-b4bcefdae3a2"
      },
      "source": [
        "pip install tqdm"
      ],
      "execution_count": null,
      "outputs": [
        {
          "output_type": "stream",
          "name": "stdout",
          "text": [
            "Requirement already satisfied: tqdm in /usr/local/lib/python3.7/dist-packages (4.62.3)\n"
          ]
        }
      ]
    },
    {
      "cell_type": "code",
      "metadata": {
        "id": "N9IVNpWNx1CY"
      },
      "source": [
        "import requests\n",
        "from bs4 import BeautifulSoup\n",
        "import pandas as pd\n",
        "import re\n",
        "import numpy as np\n",
        "from multiprocessing import Pool\n",
        "from transliterate import translit, get_available_language_codes\n",
        "import tqdm\n",
        "from datetime import date"
      ],
      "execution_count": null,
      "outputs": []
    },
    {
      "cell_type": "markdown",
      "metadata": {
        "id": "eHMQ2CUQ7I2H"
      },
      "source": [
        "how many pages with 10 tutors on a page"
      ]
    },
    {
      "cell_type": "code",
      "metadata": {
        "colab": {
          "base_uri": "https://localhost:8080/",
          "height": 35
        },
        "id": "rkHAbP7p7nKt",
        "outputId": "9598e185-45bc-4d54-f135-8ba4155f932f"
      },
      "source": [
        "url_search = 'https://repetit.ru/repetitors/'\n",
        "r_search = requests.get(url_search)\n",
        "soup_search = BeautifulSoup(r_search.text, 'lxml')\n",
        "max_search_pages = soup_search.find('div', {'class': 'pagination'}).find('p').get_text()[5:]\n",
        "max_search_pages"
      ],
      "execution_count": null,
      "outputs": [
        {
          "output_type": "execute_result",
          "data": {
            "application/vnd.google.colaboratory.intrinsic+json": {
              "type": "string"
            },
            "text/plain": [
              "'8870'"
            ]
          },
          "metadata": {},
          "execution_count": 4
        }
      ]
    },
    {
      "cell_type": "markdown",
      "metadata": {
        "id": "Q-Xnh44S7j7A"
      },
      "source": [
        "Scraping one page"
      ]
    },
    {
      "cell_type": "code",
      "metadata": {
        "id": "hShcFqJV7VBE"
      },
      "source": [
        "def parse_one_page(i):\n",
        "    arr = []\n",
        "    url_search_page = 'https://repetit.ru/repetitors/' + '?page='\n",
        "    soup_search_page = BeautifulSoup(requests.get(url_search_page + str(i)).text, 'lxml')\n",
        "    teacher = soup_search_page.find('div', {'class': 'teacher-card'})\n",
        "    s = soup_search_page.find('script')\n",
        "    if s:\n",
        "        categories = re.findall(r'\\'category\\': \\'.*\\'', s.get_text())\n",
        "        ids = re.findall(r'\\'id\\': \\'\\d*\\'', s.get_text())\n",
        "    else:\n",
        "        categories, ids = np.nan, np.nan\n",
        "    j = 0\n",
        "    while teacher:\n",
        "        arr.append([np.nan] * 13)\n",
        "\n",
        "        try:\n",
        "            # Tutor's categories\n",
        "            arr[-1][0] = categories[j].replace(\"'category': '\", '').replace(\"'\", '').split(' - ')\n",
        "\n",
        "            # Tutor's price 0-5000 rub per hour\n",
        "            s = teacher.find('h3', {'class': 'price'}).get_text()[3:]\n",
        "            arr[-1][1] = int(s.replace(' ', '').replace('от', '').replace('руб/час', ''))\n",
        "\n",
        "            # Tutor's score 0.0-5.0\n",
        "            s = str(teacher.find('div', {'class': 'star-rating'}))\n",
        "            a = re.sub(\"[^0-9]\", \" \", s).split()\n",
        "            arr[-1][2] = sum(map(int, a)) / 10\n",
        "\n",
        "            # Tutor's working format\n",
        "            arr[-1][3] = teacher.find('p', {'class': 'places-string'}).get_text().lower().split(', ')\n",
        "            \n",
        "            # Tutor's number of students' reviews\n",
        "            s = teacher.find('a', {'class': 'show-all-reviews'}).get_text()\n",
        "            arr[-1][4] = int(re.sub(\"[^0-9]\", \"\", s))\n",
        "\n",
        "            ###\n",
        "            ### Adding this feature causes increasing of scraping time in hours\n",
        "            ### due to requests to tutors' profiles. Search page doesn't contain\n",
        "            ### information about the ages.\n",
        "            ###\n",
        "            # Tutor's age\n",
        "            # a = ids[j].replace(\"'id': '\", '').replace(\"'\", '')\n",
        "            # soup_tutor_page = BeautifulSoup(requests.get('https://repetit.ru/repetitor.aspx?id=' + a).text, 'lxml')\n",
        "            # s = soup_tutor_page.find('div', {'class': 'row age'}).find('div', {'class': 'col-8'}).find('span', {'class': 'hide-in-edit-mode'}).contents\n",
        "            # arr[-1][5] = int(re.sub(\"[^0-9]\", \"\", str(s)))\n",
        "            \n",
        "            # Tutor's expirience in years\n",
        "            s = teacher.find('span', {'class': 'stage'}).get_text()\n",
        "            arr[-1][6] = int(re.sub(\"[^0-9]\", \"\", s))\n",
        "\n",
        "            # Tutor's status\n",
        "            arr[-1][7] = teacher.find('p', {'class': 'status-stage'}).contents[0].strip()\n",
        "            \n",
        "            # Tutor's location\n",
        "            s = teacher.find('div', {'class': 'places'})\n",
        "            arr[-1][8] = s.get_text().strip().split('\\n')\n",
        "\n",
        "            # Tutor's list of tags\n",
        "            arr[-1][9] = teacher.find('div', {'class': 'subjects-and-divisions'}).get_text().strip().split('\\n')\n",
        "\n",
        "            # Tutor's list of audience\n",
        "            arr[-1][10] = teacher.find('div', {'class': 'categories'}).get_text().strip().split('\\n')\n",
        "\n",
        "            # Tutor's video presentation availability\n",
        "            if teacher.find('div', {'class': 'video-presentation'}):\n",
        "                arr[-1][11] = 'Yes'\n",
        "            else:\n",
        "                arr[-1][11] = 'No'\n",
        "            \n",
        "            # Tutor's photo availability\n",
        "            s = str(teacher.find('img'))\n",
        "            if 'no_photo' in s:\n",
        "                arr[-1][12] = 'No'\n",
        "            else:\n",
        "                arr[-1][12] = 'Yes'\n",
        "        except Exception:\n",
        "            pass     \n",
        "\n",
        "        teacher = teacher.find_next('div', {'class': 'teacher-card'})\n",
        "        j += 1\n",
        "    return arr"
      ],
      "execution_count": null,
      "outputs": []
    },
    {
      "cell_type": "markdown",
      "metadata": {
        "id": "iqvscG3M8AYJ"
      },
      "source": [
        "Main parser with multiprocessing"
      ]
    },
    {
      "cell_type": "code",
      "metadata": {
        "id": "id4jtKAM7xSA"
      },
      "source": [
        "def parse_search(url_search, max_search_pages):\n",
        "    pages = [i for i in range(1, max_search_pages + 1)]\n",
        "    pool = Pool(20)\n",
        "\n",
        "    tutors_array_buff = []\n",
        "    for result in tqdm.tqdm(pool.imap_unordered(parse_one_page, pages), total=len(pages)):\n",
        "        tutors_array_buff.append(result)\n",
        "    # print(tutors_array_buff)\n",
        "    print()\n",
        "    \n",
        "    pool.close()\n",
        "    pool.join()\n",
        "    print('Web Scraping is completed')\n",
        "    return tutors_array_buff"
      ],
      "execution_count": null,
      "outputs": []
    },
    {
      "cell_type": "markdown",
      "metadata": {
        "id": "qv2shjpgW2ko"
      },
      "source": [
        "Web Scraping process"
      ]
    },
    {
      "cell_type": "markdown",
      "metadata": {
        "id": "j___9PeS3pFl"
      },
      "source": [
        "with default number of processe (2 cpus)"
      ]
    },
    {
      "cell_type": "code",
      "metadata": {
        "id": "gyyGnMFe6LXX",
        "colab": {
          "base_uri": "https://localhost:8080/"
        },
        "outputId": "0e74b84f-62b1-4a8f-fa64-069ccb418ee6"
      },
      "source": [
        "# tutors_array_buff = parse_search(url_search, 20)\n",
        "tutors_array_buff = parse_search(url_search, int(max_search_pages))"
      ],
      "execution_count": null,
      "outputs": [
        {
          "output_type": "stream",
          "name": "stderr",
          "text": [
            "100%|██████████| 8870/8870 [1:25:03<00:00,  1.74it/s]"
          ]
        },
        {
          "output_type": "stream",
          "name": "stdout",
          "text": [
            "\n",
            "Web Scraping is completed\n"
          ]
        },
        {
          "output_type": "stream",
          "name": "stderr",
          "text": [
            "\n"
          ]
        }
      ]
    },
    {
      "cell_type": "markdown",
      "metadata": {
        "id": "T0Xqs1vv3soB"
      },
      "source": [
        "with 20 processes"
      ]
    },
    {
      "cell_type": "code",
      "metadata": {
        "colab": {
          "base_uri": "https://localhost:8080/"
        },
        "id": "Ioeqvd2_0deD",
        "outputId": "1dd48e3e-0d57-413e-e9b8-b76434bdf3c3"
      },
      "source": [
        "# tutors_array_buff = parse_search(url_search, 20)\n",
        "tutors_array_buff = parse_search(url_search, int(max_search_pages))"
      ],
      "execution_count": null,
      "outputs": [
        {
          "output_type": "stream",
          "name": "stderr",
          "text": [
            "100%|██████████| 8870/8870 [13:43<00:00, 10.78it/s]\n"
          ]
        },
        {
          "output_type": "stream",
          "name": "stdout",
          "text": [
            "\n",
            "Web Scraping is completed\n"
          ]
        }
      ]
    },
    {
      "cell_type": "markdown",
      "metadata": {
        "id": "vn2G3VbtWzsU"
      },
      "source": [
        "Processing obtained data"
      ]
    },
    {
      "cell_type": "code",
      "metadata": {
        "id": "wtoeZt0GHwcJ"
      },
      "source": [
        "flat_list = [item for sublist in tutors_array_buff for item in sublist]"
      ],
      "execution_count": null,
      "outputs": []
    },
    {
      "cell_type": "code",
      "metadata": {
        "colab": {
          "base_uri": "https://localhost:8080/"
        },
        "id": "C58XGbdlnUVc",
        "outputId": "155ce2d6-3319-476c-aab5-3c65add038f9"
      },
      "source": [
        "tutors_array = np.array(flat_list)\n",
        "tutors_array.shape"
      ],
      "execution_count": null,
      "outputs": [
        {
          "output_type": "stream",
          "name": "stderr",
          "text": [
            "/usr/local/lib/python3.7/dist-packages/ipykernel_launcher.py:1: VisibleDeprecationWarning: Creating an ndarray from ragged nested sequences (which is a list-or-tuple of lists-or-tuples-or ndarrays with different lengths or shapes) is deprecated. If you meant to do this, you must specify 'dtype=object' when creating the ndarray\n",
            "  \"\"\"Entry point for launching an IPython kernel.\n"
          ]
        },
        {
          "output_type": "execute_result",
          "data": {
            "text/plain": [
              "(88680, 13)"
            ]
          },
          "metadata": {},
          "execution_count": 17
        }
      ]
    },
    {
      "cell_type": "code",
      "metadata": {
        "id": "9LOMf1txyLIH"
      },
      "source": [
        "columns = ['Categories',\n",
        "           'Price',\n",
        "           'Score',\n",
        "           'Format',\n",
        "           'Reviews_number',\n",
        "           'Age',\n",
        "           'Experience',\n",
        "           'Status',\n",
        "           'Location',\n",
        "           'Tags',\n",
        "           'Audience',\n",
        "           'Video_presentation',\n",
        "           'Photo']"
      ],
      "execution_count": null,
      "outputs": []
    },
    {
      "cell_type": "code",
      "metadata": {
        "colab": {
          "base_uri": "https://localhost:8080/",
          "height": 598
        },
        "id": "YmWRC8jk26jG",
        "outputId": "3173af85-c960-4636-9be7-6ec991fea185"
      },
      "source": [
        "tutors = pd.DataFrame(tutors_array, columns=columns)\n",
        "tutors.head()"
      ],
      "execution_count": null,
      "outputs": [
        {
          "output_type": "execute_result",
          "data": {
            "text/html": [
              "<div>\n",
              "<style scoped>\n",
              "    .dataframe tbody tr th:only-of-type {\n",
              "        vertical-align: middle;\n",
              "    }\n",
              "\n",
              "    .dataframe tbody tr th {\n",
              "        vertical-align: top;\n",
              "    }\n",
              "\n",
              "    .dataframe thead th {\n",
              "        text-align: right;\n",
              "    }\n",
              "</style>\n",
              "<table border=\"1\" class=\"dataframe\">\n",
              "  <thead>\n",
              "    <tr style=\"text-align: right;\">\n",
              "      <th></th>\n",
              "      <th>Categories</th>\n",
              "      <th>Price</th>\n",
              "      <th>Score</th>\n",
              "      <th>Format</th>\n",
              "      <th>Reviews_number</th>\n",
              "      <th>Age</th>\n",
              "      <th>Experience</th>\n",
              "      <th>Status</th>\n",
              "      <th>Location</th>\n",
              "      <th>Tags</th>\n",
              "      <th>Audience</th>\n",
              "      <th>Video_presentation</th>\n",
              "      <th>Photo</th>\n",
              "    </tr>\n",
              "  </thead>\n",
              "  <tbody>\n",
              "    <tr>\n",
              "      <th>0</th>\n",
              "      <td>[Английский язык]</td>\n",
              "      <td>2500</td>\n",
              "      <td>4.9</td>\n",
              "      <td>[у репетитора, у ученика, дистанционно]</td>\n",
              "      <td>57</td>\n",
              "      <td>NaN</td>\n",
              "      <td>18</td>\n",
              "      <td>Частный преподаватель</td>\n",
              "      <td>[м. Авиамоторная]</td>\n",
              "      <td>[ОГЭ (ГИА), ЕГЭ, бизнес-курс, BEC, CAE, CPE, F...</td>\n",
              "      <td>[Дети 6-7 лет, Школьники 1-11 классов, Студент...</td>\n",
              "      <td>Yes</td>\n",
              "      <td>Yes</td>\n",
              "    </tr>\n",
              "    <tr>\n",
              "      <th>1</th>\n",
              "      <td>[Физика, Математика]</td>\n",
              "      <td>2800</td>\n",
              "      <td>4.9</td>\n",
              "      <td>[у репетитора, дистанционно]</td>\n",
              "      <td>52</td>\n",
              "      <td>NaN</td>\n",
              "      <td>19</td>\n",
              "      <td>Частный преподаватель</td>\n",
              "      <td>[г. Одинцово]</td>\n",
              "      <td>[ОГЭ (ГИА), ЕГЭ, подготовка к олимпиадам,  шко...</td>\n",
              "      <td>[Школьники 5-11 классов, Студенты]</td>\n",
              "      <td>Yes</td>\n",
              "      <td>Yes</td>\n",
              "    </tr>\n",
              "    <tr>\n",
              "      <th>2</th>\n",
              "      <td>[Английский язык]</td>\n",
              "      <td>4000</td>\n",
              "      <td>5</td>\n",
              "      <td>[у репетитора, дистанционно]</td>\n",
              "      <td>50</td>\n",
              "      <td>NaN</td>\n",
              "      <td>38</td>\n",
              "      <td>Частный преподаватель</td>\n",
              "      <td>[м. ВДНХ, м. Алексеевская, м. Фонвизинская, м....</td>\n",
              "      <td>[ОГЭ (ГИА), ЕГЭ, подготовка к олимпиадам, FCE,...</td>\n",
              "      <td>[Школьники 7-11 классов, Студенты]</td>\n",
              "      <td>Yes</td>\n",
              "      <td>Yes</td>\n",
              "    </tr>\n",
              "    <tr>\n",
              "      <th>3</th>\n",
              "      <td>[Физика, Математика]</td>\n",
              "      <td>3500</td>\n",
              "      <td>4.9</td>\n",
              "      <td>[у репетитора, у ученика, дистанционно]</td>\n",
              "      <td>38</td>\n",
              "      <td>NaN</td>\n",
              "      <td>8</td>\n",
              "      <td>Частный преподаватель</td>\n",
              "      <td>[м. Парк культуры (кольцевая)]</td>\n",
              "      <td>[ОГЭ (ГИА), ЕГЭ, подготовка к олимпиадам,  шко...</td>\n",
              "      <td>[Школьники 6-11 классов]</td>\n",
              "      <td>Yes</td>\n",
              "      <td>Yes</td>\n",
              "    </tr>\n",
              "    <tr>\n",
              "      <th>4</th>\n",
              "      <td>[Английский язык, Русский как иностранный]</td>\n",
              "      <td>1500</td>\n",
              "      <td>5</td>\n",
              "      <td>[у репетитора, у ученика, дистанционно]</td>\n",
              "      <td>32</td>\n",
              "      <td>NaN</td>\n",
              "      <td>17</td>\n",
              "      <td>Частный преподаватель</td>\n",
              "      <td>[м. Улица 1905 года]</td>\n",
              "      <td>[ОГЭ (ГИА), ЕГЭ, бизнес-курс, KET, PET, Общий ...</td>\n",
              "      <td>[Дети 6-7 лет, Школьники 1-11 классов, Студент...</td>\n",
              "      <td>No</td>\n",
              "      <td>Yes</td>\n",
              "    </tr>\n",
              "  </tbody>\n",
              "</table>\n",
              "</div>"
            ],
            "text/plain": [
              "                                   Categories Price  ... Video_presentation Photo\n",
              "0                           [Английский язык]  2500  ...                Yes   Yes\n",
              "1                        [Физика, Математика]  2800  ...                Yes   Yes\n",
              "2                           [Английский язык]  4000  ...                Yes   Yes\n",
              "3                        [Физика, Математика]  3500  ...                Yes   Yes\n",
              "4  [Английский язык, Русский как иностранный]  1500  ...                 No   Yes\n",
              "\n",
              "[5 rows x 13 columns]"
            ]
          },
          "metadata": {},
          "execution_count": 18
        }
      ]
    },
    {
      "cell_type": "code",
      "metadata": {
        "colab": {
          "base_uri": "https://localhost:8080/"
        },
        "id": "BAJAbdZHIixW",
        "outputId": "0f0babbd-4d09-453b-c09f-c0a854dc7dd4"
      },
      "source": [
        "tutors.shape"
      ],
      "execution_count": null,
      "outputs": [
        {
          "output_type": "execute_result",
          "data": {
            "text/plain": [
              "(88680, 13)"
            ]
          },
          "metadata": {},
          "execution_count": 19
        }
      ]
    },
    {
      "cell_type": "markdown",
      "metadata": {
        "id": "bSK-Xxp04AM6"
      },
      "source": [
        "with default number of processes"
      ]
    },
    {
      "cell_type": "code",
      "metadata": {
        "colab": {
          "base_uri": "https://localhost:8080/"
        },
        "id": "6ZRqVKgGI2o3",
        "outputId": "88c60b04-abe3-4934-a588-e460605dc9d7"
      },
      "source": [
        "tutors.isnull().sum()"
      ],
      "execution_count": null,
      "outputs": [
        {
          "output_type": "execute_result",
          "data": {
            "text/plain": [
              "Categories                0\n",
              "Price                     0\n",
              "Score                     0\n",
              "Format                    0\n",
              "Reviews_number        63188\n",
              "Age                   88690\n",
              "Experience            63188\n",
              "Status                63188\n",
              "Location              65414\n",
              "Tags                  65427\n",
              "Audience              65428\n",
              "Video_presentation    65428\n",
              "Photo                 65428\n",
              "dtype: int64"
            ]
          },
          "metadata": {},
          "execution_count": 13
        }
      ]
    },
    {
      "cell_type": "markdown",
      "metadata": {
        "id": "bh0L9SP14DUA"
      },
      "source": [
        "with 20 processes"
      ]
    },
    {
      "cell_type": "code",
      "metadata": {
        "colab": {
          "base_uri": "https://localhost:8080/"
        },
        "id": "C_lpPwld0uYx",
        "outputId": "024970cf-c2ea-4f9d-8a1a-b71251a6b4ae"
      },
      "source": [
        "tutors.isnull().sum()"
      ],
      "execution_count": null,
      "outputs": [
        {
          "output_type": "execute_result",
          "data": {
            "text/plain": [
              "Categories                0\n",
              "Price                     0\n",
              "Score                     0\n",
              "Format                    0\n",
              "Reviews_number        63164\n",
              "Age                   88680\n",
              "Experience            63164\n",
              "Status                63164\n",
              "Location              65387\n",
              "Tags                  65400\n",
              "Audience              65401\n",
              "Video_presentation    65401\n",
              "Photo                 65401\n",
              "dtype: int64"
            ]
          },
          "metadata": {},
          "execution_count": 20
        }
      ]
    },
    {
      "cell_type": "code",
      "metadata": {
        "id": "GdNmj3qXMmvm"
      },
      "source": [
        "tutors_rus = tutors.copy()\n",
        "tutors_eng = tutors.copy()"
      ],
      "execution_count": null,
      "outputs": []
    },
    {
      "cell_type": "markdown",
      "metadata": {
        "id": "3O9va7PoW6Ok"
      },
      "source": [
        "Translation and transliteration"
      ]
    },
    {
      "cell_type": "markdown",
      "metadata": {
        "id": "BvEETITS4I85"
      },
      "source": [
        "Tags left without translation or transliteration"
      ]
    },
    {
      "cell_type": "code",
      "metadata": {
        "id": "9Ql1sFeppyzg"
      },
      "source": [
        "translations_dict_ru_eng = {'Английский язык': 'English',\n",
        "                            'Немецкий язык': 'German', \n",
        "                            'Итальянский язык': 'Italian',\n",
        "                            'Французский язык': 'French',\n",
        "                            'Русский как иностранный': 'Russian as a foreign language',\n",
        "                            'Другой': 'Other',\n",
        "                            'Русский язык': 'Russian',\n",
        "                            'Экономика': 'Economics', \n",
        "                            'Математика': 'Mathematics',\n",
        "                            'Обществознание': 'Social studies',\n",
        "                            'Начальная школа': 'Elementary School', \n",
        "                            'География': 'Geography',\n",
        "                            'Биология': 'Biology',\n",
        "                            'Музыка': 'Music',\n",
        "                            'Физика': 'Physics',\n",
        "                            'Литература': 'Literature',\n",
        "                            'История': 'History',\n",
        "                            'Химия': 'Chemistry',\n",
        "                            'Логопед': 'Speech therapist',\n",
        "                            'Занятия с дошкольниками': 'Preschooler activities', \n",
        "                            'Информатика / программирование': 'Informatics / Programming',\n",
        "                            'Испанский язык': 'Spanish', \n",
        "                            'Редкие иностранные языки': 'Rare foreign languages',\n",
        "                            'Изобразительное искусство': 'Art',\n",
        "                            'Китайский язык': 'Chinese',\n",
        "                            'Спорт и фитнес': 'Sport and fitness',\n",
        "                            'Японский язык': 'Japanese',\n",
        "                            'у ученика': 'at the student\\'s',\n",
        "                            'у репетитора': 'at the tutor\\'s',\n",
        "                            'дистанционно': 'remotely',\n",
        "                            'Частный преподаватель': 'Private tutor',\n",
        "                            'Студент': 'Student',\n",
        "                            'Аспирант': 'Postgraduate student',\n",
        "                            'Школьный преподаватель': 'School teacher',\n",
        "                            'Преподаватель вуза': 'University professor',\n",
        "                            'Носитель языка': 'Native speaker',\n",
        "                            'Школьники': 'Pupils of',\n",
        "                            'классов': 'grades',\n",
        "                            'класса': 'grade',\n",
        "                            'Дети': 'Children',\n",
        "                            'лет': 'years old',\n",
        "                            'Студенты': 'Students',\n",
        "                            'Взрослые': 'Adults',\n",
        "                            'ы': 's'}"
      ],
      "execution_count": null,
      "outputs": []
    },
    {
      "cell_type": "code",
      "metadata": {
        "id": "ub1VY_iAuMvk"
      },
      "source": [
        "cols_to_translate = ['Categories', 'Format', 'Status', 'Location', 'Tags', 'Audience']"
      ],
      "execution_count": null,
      "outputs": []
    },
    {
      "cell_type": "code",
      "metadata": {
        "id": "EDpkhoCNsScn"
      },
      "source": [
        "for element in translations_dict_ru_eng:\n",
        "    for col in cols_to_translate:\n",
        "        tutors_eng[col] = tutors_eng[col].apply(lambda x: str(x).replace(element, translations_dict_ru_eng[element]))"
      ],
      "execution_count": null,
      "outputs": []
    },
    {
      "cell_type": "code",
      "metadata": {
        "id": "hsH6AHjZvS6Y"
      },
      "source": [
        "tutors_eng.Location = tutors_eng.Location.apply(lambda x: translit(str(x), 'ru', reversed=True))\n",
        "tutors_eng.Location = tutors_eng.Location.apply(lambda x: str(x).replace('m.', 'metro'))\n",
        "tutors_eng.Location = tutors_eng.Location.apply(lambda x: str(x).replace('g.', 'city'))"
      ],
      "execution_count": null,
      "outputs": []
    },
    {
      "cell_type": "code",
      "metadata": {
        "id": "m03GIgohSCnc"
      },
      "source": [
        "tutors_rus = tutors_rus.drop(['Age'], axis=1)\n",
        "tutors_eng = tutors_eng.drop(['Age'], axis=1)"
      ],
      "execution_count": null,
      "outputs": []
    },
    {
      "cell_type": "code",
      "metadata": {
        "id": "2yHIQh9BU3H-"
      },
      "source": [
        "for col in tutors_eng.columns:\n",
        "    tutors_eng[col].replace('None', np.nan, inplace=True)"
      ],
      "execution_count": null,
      "outputs": []
    },
    {
      "cell_type": "markdown",
      "metadata": {
        "id": "1585rjjFXFWQ"
      },
      "source": [
        "Checking None/Nan objects"
      ]
    },
    {
      "cell_type": "code",
      "metadata": {
        "colab": {
          "base_uri": "https://localhost:8080/"
        },
        "id": "tETscffuUwrj",
        "outputId": "b2d897d9-98c3-4984-b946-e9fe36fb800e"
      },
      "source": [
        "tutors_eng.isnull().sum()"
      ],
      "execution_count": null,
      "outputs": [
        {
          "output_type": "execute_result",
          "data": {
            "text/plain": [
              "Categories                0\n",
              "Price                     0\n",
              "Score                     0\n",
              "Format                    0\n",
              "Reviews_number        63174\n",
              "Experience            63174\n",
              "Status                63174\n",
              "Location              65406\n",
              "Tags                  65419\n",
              "Audience              65420\n",
              "Video_presentation    65420\n",
              "Photo                 65420\n",
              "dtype: int64"
            ]
          },
          "metadata": {},
          "execution_count": 65
        }
      ]
    },
    {
      "cell_type": "code",
      "metadata": {
        "id": "6yOhH92LvfHZ"
      },
      "source": [
        "for col in tutors_rus.columns:\n",
        "    tutors_rus[col].replace('None', np.nan, inplace=True)"
      ],
      "execution_count": null,
      "outputs": []
    },
    {
      "cell_type": "code",
      "metadata": {
        "colab": {
          "base_uri": "https://localhost:8080/"
        },
        "id": "Kqx2b2i8V7GY",
        "outputId": "9663c85b-e933-49fa-aaf4-1844bc1420e8"
      },
      "source": [
        "tutors_rus.isnull().sum()"
      ],
      "execution_count": null,
      "outputs": [
        {
          "output_type": "execute_result",
          "data": {
            "text/plain": [
              "Categories                0\n",
              "Price                     0\n",
              "Score                     0\n",
              "Format                    0\n",
              "Reviews_number        63174\n",
              "Experience            63174\n",
              "Status                63174\n",
              "Location              65406\n",
              "Tags                  65419\n",
              "Audience              65420\n",
              "Video_presentation    65420\n",
              "Photo                 65420\n",
              "dtype: int64"
            ]
          },
          "metadata": {},
          "execution_count": 67
        }
      ]
    },
    {
      "cell_type": "code",
      "metadata": {
        "id": "wVykm8No8JIf"
      },
      "source": [
        "today = date.today()\n",
        "d1 = today.strftime(\"%Y_%m_%d\")"
      ],
      "execution_count": null,
      "outputs": []
    },
    {
      "cell_type": "markdown",
      "metadata": {
        "id": "NhN1upEIXM5v"
      },
      "source": [
        "Save into csv"
      ]
    },
    {
      "cell_type": "code",
      "metadata": {
        "id": "auuNlehuvvjk"
      },
      "source": [
        "tutors_rus.to_csv('tutors_rus_' + d1 + '.csv', index=False, encoding='utf-8-sig')\n",
        "tutors_eng.to_csv('tutors_eng_' + d1 + '.csv', index=False, encoding='utf-8-sig')"
      ],
      "execution_count": null,
      "outputs": []
    },
    {
      "cell_type": "code",
      "metadata": {
        "id": "n6FqnfHMSl18"
      },
      "source": [
        "tutors_rus_read = pd.read_csv('tutors_rus_2021_10_06.csv')\n",
        "tutors_eng_read = pd.read_csv('tutors_eng_2021_10_06.csv')"
      ],
      "execution_count": null,
      "outputs": []
    },
    {
      "cell_type": "code",
      "metadata": {
        "colab": {
          "base_uri": "https://localhost:8080/",
          "height": 496
        },
        "id": "NqorqbWvTV8F",
        "outputId": "aea271e5-ac45-442b-be73-9e4ade67c7e0"
      },
      "source": [
        "tutors_rus_read.head()"
      ],
      "execution_count": null,
      "outputs": [
        {
          "output_type": "execute_result",
          "data": {
            "text/html": [
              "<div>\n",
              "<style scoped>\n",
              "    .dataframe tbody tr th:only-of-type {\n",
              "        vertical-align: middle;\n",
              "    }\n",
              "\n",
              "    .dataframe tbody tr th {\n",
              "        vertical-align: top;\n",
              "    }\n",
              "\n",
              "    .dataframe thead th {\n",
              "        text-align: right;\n",
              "    }\n",
              "</style>\n",
              "<table border=\"1\" class=\"dataframe\">\n",
              "  <thead>\n",
              "    <tr style=\"text-align: right;\">\n",
              "      <th></th>\n",
              "      <th>Categories</th>\n",
              "      <th>Price</th>\n",
              "      <th>Score</th>\n",
              "      <th>Format</th>\n",
              "      <th>Reviews_number</th>\n",
              "      <th>Experience</th>\n",
              "      <th>Status</th>\n",
              "      <th>Location</th>\n",
              "      <th>Tags</th>\n",
              "      <th>Audience</th>\n",
              "      <th>Video_presentation</th>\n",
              "      <th>Photo</th>\n",
              "    </tr>\n",
              "  </thead>\n",
              "  <tbody>\n",
              "    <tr>\n",
              "      <th>0</th>\n",
              "      <td>['Немецкий язык', 'Испанский язык']</td>\n",
              "      <td>1800</td>\n",
              "      <td>5.0</td>\n",
              "      <td>['дистанционно']</td>\n",
              "      <td>26.0</td>\n",
              "      <td>21.0</td>\n",
              "      <td>Частный преподаватель</td>\n",
              "      <td>NaN</td>\n",
              "      <td>NaN</td>\n",
              "      <td>NaN</td>\n",
              "      <td>NaN</td>\n",
              "      <td>NaN</td>\n",
              "    </tr>\n",
              "    <tr>\n",
              "      <th>1</th>\n",
              "      <td>['Математика']</td>\n",
              "      <td>2500</td>\n",
              "      <td>4.9</td>\n",
              "      <td>['у репетитора', 'дистанционно']</td>\n",
              "      <td>41.0</td>\n",
              "      <td>29.0</td>\n",
              "      <td>Частный преподаватель</td>\n",
              "      <td>['м. Щукинская']</td>\n",
              "      <td>['ОГЭ (ГИА)', 'ЕГЭ', 'подготовка к олимпиадам'...</td>\n",
              "      <td>['Школьники 4-11 классов', 'Студенты']</td>\n",
              "      <td>No</td>\n",
              "      <td>Yes</td>\n",
              "    </tr>\n",
              "    <tr>\n",
              "      <th>2</th>\n",
              "      <td>['Английский язык']</td>\n",
              "      <td>1500</td>\n",
              "      <td>5.0</td>\n",
              "      <td>['у репетитора', 'у ученика', 'дистанционно']</td>\n",
              "      <td>14.0</td>\n",
              "      <td>11.0</td>\n",
              "      <td>Частный преподаватель</td>\n",
              "      <td>['м. Чертановская']</td>\n",
              "      <td>['ОГЭ (ГИА)', 'ЕГЭ', 'подготовка к олимпиадам'...</td>\n",
              "      <td>['Дети 6-7 лет', 'Школьники 1-11 классов', 'Ст...</td>\n",
              "      <td>Yes</td>\n",
              "      <td>Yes</td>\n",
              "    </tr>\n",
              "    <tr>\n",
              "      <th>3</th>\n",
              "      <td>['Химия']</td>\n",
              "      <td>1300</td>\n",
              "      <td>5.0</td>\n",
              "      <td>['дистанционно']</td>\n",
              "      <td>41.0</td>\n",
              "      <td>39.0</td>\n",
              "      <td>Частный преподаватель</td>\n",
              "      <td>NaN</td>\n",
              "      <td>NaN</td>\n",
              "      <td>NaN</td>\n",
              "      <td>NaN</td>\n",
              "      <td>NaN</td>\n",
              "    </tr>\n",
              "    <tr>\n",
              "      <th>4</th>\n",
              "      <td>['Математика']</td>\n",
              "      <td>1500</td>\n",
              "      <td>5.0</td>\n",
              "      <td>['у репетитора', 'у ученика', 'дистанционно']</td>\n",
              "      <td>35.0</td>\n",
              "      <td>9.0</td>\n",
              "      <td>Школьный преподаватель</td>\n",
              "      <td>['м. Отрадное', 'м. Бабушкинская', 'м. Свиблов...</td>\n",
              "      <td>['ОГЭ (ГИА)', 'ЕГЭ', ' школьный курс', 'Алгебр...</td>\n",
              "      <td>['Школьники 5-11 классов']</td>\n",
              "      <td>No</td>\n",
              "      <td>Yes</td>\n",
              "    </tr>\n",
              "  </tbody>\n",
              "</table>\n",
              "</div>"
            ],
            "text/plain": [
              "                            Categories  Price  ...  Video_presentation Photo\n",
              "0  ['Немецкий язык', 'Испанский язык']   1800  ...                 NaN   NaN\n",
              "1                       ['Математика']   2500  ...                  No   Yes\n",
              "2                  ['Английский язык']   1500  ...                 Yes   Yes\n",
              "3                            ['Химия']   1300  ...                 NaN   NaN\n",
              "4                       ['Математика']   1500  ...                  No   Yes\n",
              "\n",
              "[5 rows x 12 columns]"
            ]
          },
          "metadata": {},
          "execution_count": 71
        }
      ]
    },
    {
      "cell_type": "code",
      "metadata": {
        "colab": {
          "base_uri": "https://localhost:8080/",
          "height": 445
        },
        "id": "Slgig_clTXdF",
        "outputId": "f341b9c3-5e1e-4173-99c6-59e6c872d707"
      },
      "source": [
        "tutors_eng_read.head()"
      ],
      "execution_count": null,
      "outputs": [
        {
          "output_type": "execute_result",
          "data": {
            "text/html": [
              "<div>\n",
              "<style scoped>\n",
              "    .dataframe tbody tr th:only-of-type {\n",
              "        vertical-align: middle;\n",
              "    }\n",
              "\n",
              "    .dataframe tbody tr th {\n",
              "        vertical-align: top;\n",
              "    }\n",
              "\n",
              "    .dataframe thead th {\n",
              "        text-align: right;\n",
              "    }\n",
              "</style>\n",
              "<table border=\"1\" class=\"dataframe\">\n",
              "  <thead>\n",
              "    <tr style=\"text-align: right;\">\n",
              "      <th></th>\n",
              "      <th>Categories</th>\n",
              "      <th>Price</th>\n",
              "      <th>Score</th>\n",
              "      <th>Format</th>\n",
              "      <th>Reviews_number</th>\n",
              "      <th>Experience</th>\n",
              "      <th>Status</th>\n",
              "      <th>Location</th>\n",
              "      <th>Tags</th>\n",
              "      <th>Audience</th>\n",
              "      <th>Video_presentation</th>\n",
              "      <th>Photo</th>\n",
              "    </tr>\n",
              "  </thead>\n",
              "  <tbody>\n",
              "    <tr>\n",
              "      <th>0</th>\n",
              "      <td>['German', 'Spanish']</td>\n",
              "      <td>1800</td>\n",
              "      <td>5.0</td>\n",
              "      <td>['remotely']</td>\n",
              "      <td>26.0</td>\n",
              "      <td>21.0</td>\n",
              "      <td>Private tutor</td>\n",
              "      <td>NaN</td>\n",
              "      <td>NaN</td>\n",
              "      <td>NaN</td>\n",
              "      <td>NaN</td>\n",
              "      <td>NaN</td>\n",
              "    </tr>\n",
              "    <tr>\n",
              "      <th>1</th>\n",
              "      <td>['Mathematics']</td>\n",
              "      <td>2500</td>\n",
              "      <td>4.9</td>\n",
              "      <td>['at the tutor's', 'remotely']</td>\n",
              "      <td>41.0</td>\n",
              "      <td>29.0</td>\n",
              "      <td>Private tutor</td>\n",
              "      <td>['metro Schukinskaja']</td>\n",
              "      <td>['ОГЭ (ГИА)', 'ЕГЭ', 'подготовка к олимпиадам'...</td>\n",
              "      <td>['Pupils of 4-11 grades', 'Studentы']</td>\n",
              "      <td>No</td>\n",
              "      <td>Yes</td>\n",
              "    </tr>\n",
              "    <tr>\n",
              "      <th>2</th>\n",
              "      <td>['English']</td>\n",
              "      <td>1500</td>\n",
              "      <td>5.0</td>\n",
              "      <td>['at the tutor's', 'at the student's', 'remote...</td>\n",
              "      <td>14.0</td>\n",
              "      <td>11.0</td>\n",
              "      <td>Private tutor</td>\n",
              "      <td>['metro Chertanovskaja']</td>\n",
              "      <td>['ОГЭ (ГИА)', 'ЕГЭ', 'подготовка к олимпиадам'...</td>\n",
              "      <td>['Children 6-7 years old', 'Pupils of 1-11 gra...</td>\n",
              "      <td>Yes</td>\n",
              "      <td>Yes</td>\n",
              "    </tr>\n",
              "    <tr>\n",
              "      <th>3</th>\n",
              "      <td>['Chemistry']</td>\n",
              "      <td>1300</td>\n",
              "      <td>5.0</td>\n",
              "      <td>['remotely']</td>\n",
              "      <td>41.0</td>\n",
              "      <td>39.0</td>\n",
              "      <td>Private tutor</td>\n",
              "      <td>NaN</td>\n",
              "      <td>NaN</td>\n",
              "      <td>NaN</td>\n",
              "      <td>NaN</td>\n",
              "      <td>NaN</td>\n",
              "    </tr>\n",
              "    <tr>\n",
              "      <th>4</th>\n",
              "      <td>['Mathematics']</td>\n",
              "      <td>1500</td>\n",
              "      <td>5.0</td>\n",
              "      <td>['at the tutor's', 'at the student's', 'remote...</td>\n",
              "      <td>35.0</td>\n",
              "      <td>9.0</td>\n",
              "      <td>School teacher</td>\n",
              "      <td>['metro Otradnoe', 'metro Babushkinskaja', 'me...</td>\n",
              "      <td>['ОГЭ (ГИА)', 'ЕГЭ', ' школьный курс', 'Алгебр...</td>\n",
              "      <td>['Pupils of 5-11 grades']</td>\n",
              "      <td>No</td>\n",
              "      <td>Yes</td>\n",
              "    </tr>\n",
              "  </tbody>\n",
              "</table>\n",
              "</div>"
            ],
            "text/plain": [
              "              Categories  Price  ...  Video_presentation Photo\n",
              "0  ['German', 'Spanish']   1800  ...                 NaN   NaN\n",
              "1        ['Mathematics']   2500  ...                  No   Yes\n",
              "2            ['English']   1500  ...                 Yes   Yes\n",
              "3          ['Chemistry']   1300  ...                 NaN   NaN\n",
              "4        ['Mathematics']   1500  ...                  No   Yes\n",
              "\n",
              "[5 rows x 12 columns]"
            ]
          },
          "metadata": {},
          "execution_count": 72
        }
      ]
    },
    {
      "cell_type": "code",
      "metadata": {
        "id": "blht2qc2UWI0"
      },
      "source": [
        ""
      ],
      "execution_count": null,
      "outputs": []
    }
  ]
}